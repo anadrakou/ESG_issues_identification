{
  "cells": [
    {
      "cell_type": "markdown",
      "metadata": {
        "id": "wRSW5ByEutra"
      },
      "source": [
        "# English Data Notebook\n",
        "\n",
        "## Import Libraries"
      ]
    },
    {
      "cell_type": "code",
      "execution_count": 2,
      "metadata": {
        "id": "xgCY4vznukTY"
      },
      "outputs": [],
      "source": [
        "import json\n",
        "import pandas as pd\n",
        "import seaborn as sns\n",
        "import plotly.express as px\n",
        "import matplotlib.pyplot as plt\n",
        "from sklearn.feature_extraction.text import TfidfVectorizer\n",
        "from sklearn.feature_extraction import text\n",
        "import nltk\n",
        "from nltk.tokenize import word_tokenize\n",
        "from sklearn.feature_extraction.text import TfidfVectorizer\n",
        "from nltk.stem import SnowballStemmer\n",
        "from nltk.corpus import stopwords\n",
        "from sklearn.model_selection import train_test_split\n",
        "from sklearn.linear_model import LogisticRegression\n",
        "from sklearn.ensemble import RandomForestClassifier\n",
        "from sklearn.svm import SVC\n",
        "from sklearn.naive_bayes import MultinomialNB\n",
        "from sklearn.naive_bayes import GaussianNB\n",
        "from xgboost import XGBClassifier\n",
        "from sklearn.model_selection import StratifiedKFold, cross_val_score\n",
        "from sklearn.metrics import f1_score\n",
        "from sklearn.pipeline import Pipeline\n",
        "from sklearn.model_selection import GridSearchCV\n",
        "from sklearn.metrics import (f1_score, accuracy_score, recall_score,\n",
        "                             precision_score, confusion_matrix, classification_report)\n",
        "from sklearn.svm import SVC\n",
        "from sklearn.feature_extraction.text import TfidfVectorizer\n",
        "from joblib import dump"
      ]
    },
    {
      "cell_type": "markdown",
      "metadata": {
        "id": "d8gFyidGvOGv"
      },
      "source": [
        "## Import Datasets\n",
        "from Google Drive"
      ]
    },
    {
      "cell_type": "code",
      "execution_count": 3,
      "metadata": {
        "colab": {
          "base_uri": "https://localhost:8080/"
        },
        "id": "tvXJy0HSvHPo",
        "outputId": "71071fa7-6977-4f92-ac22-a7794457a712"
      },
      "outputs": [
        {
          "output_type": "stream",
          "name": "stdout",
          "text": [
            "Mounted at /content/drive\n"
          ]
        }
      ],
      "source": [
        "from google.colab import drive\n",
        "drive.mount('/content/drive')"
      ]
    },
    {
      "cell_type": "code",
      "execution_count": 4,
      "metadata": {
        "id": "CH3AfTA0vURf"
      },
      "outputs": [],
      "source": [
        "trainset_json = '/content/drive/My Drive/Thesis/Trainset/ML-ESG-3_Trainset_English.json'\n",
        "testset_json = '/content/drive/My Drive/Thesis/Testset/ML-ESG3_Testset_EN.json'"
      ]
    },
    {
      "cell_type": "markdown",
      "metadata": {
        "id": "gIXVap1MvUAe"
      },
      "source": [
        "Convert JSON files to dataframes"
      ]
    },
    {
      "cell_type": "code",
      "execution_count": 5,
      "metadata": {
        "collapsed": true,
        "id": "cCJnEccxvWbp"
      },
      "outputs": [],
      "source": [
        "with open(trainset_json, 'r') as file:\n",
        "    train_json_data = json.load(file)\n",
        "\n",
        "with open(testset_json, 'r') as file:\n",
        "    test_json_data = json.load(file)\n",
        "\n",
        "train_df = pd.json_normalize(train_json_data)\n",
        "test_df = pd.json_normalize(test_json_data)"
      ]
    },
    {
      "cell_type": "markdown",
      "metadata": {
        "id": "pMtTya2fvfRY"
      },
      "source": [
        "## Exploratory Data Analysis"
      ]
    },
    {
      "cell_type": "code",
      "execution_count": 6,
      "metadata": {
        "colab": {
          "base_uri": "https://localhost:8080/",
          "height": 293
        },
        "id": "ycnphTTmvaNl",
        "outputId": "c3d08723-6873-4271-a477-db8150137b18"
      },
      "outputs": [
        {
          "output_type": "execute_result",
          "data": {
            "text/plain": [
              "                                                 URL  \\\n",
              "0  https://www.esgtoday.com/arabesque-ai-appoints...   \n",
              "1  https://www.esgtoday.com/arabesque-ai-appoints...   \n",
              "2  https://www.esgtoday.com/arabesque-ai-appoints...   \n",
              "3  https://www.esgtoday.com/ukraine-war-inflation...   \n",
              "4  https://www.esgtoday.com/eu-regulators-welcome...   \n",
              "\n",
              "                                          news_title  \\\n",
              "0  Arabesque AI Appoints Carolina Minio Paluello ...   \n",
              "1  Arabesque AI Appoints Carolina Minio Paluello ...   \n",
              "2  Arabesque AI Appoints Carolina Minio Paluello ...   \n",
              "3  Ukraine War, Inflation Reduction Act Driving F...   \n",
              "4  EU Regulators Welcome, Critique New European S...   \n",
              "\n",
              "                                        news_content impact_level  \\\n",
              "0  ESG-focused financial technology company Arabe...          low   \n",
              "1  The company also announced the appointment of ...          low   \n",
              "2  Wong said:  \\n“Personalised portfolios demand ...       medium   \n",
              "3  One of the key themes of the report is the imp...         high   \n",
              "4  Europe’s three primary financial regulatory ag...       medium   \n",
              "\n",
              "       impact_length  \n",
              "0       2 to 5 years  \n",
              "1       2 to 5 years  \n",
              "2       2 to 5 years  \n",
              "3  More than 5 years  \n",
              "4  Less than 2 years  "
            ],
            "text/html": [
              "\n",
              "  <div id=\"df-81f60463-612e-4657-8378-08508d63fdc8\" class=\"colab-df-container\">\n",
              "    <div>\n",
              "<style scoped>\n",
              "    .dataframe tbody tr th:only-of-type {\n",
              "        vertical-align: middle;\n",
              "    }\n",
              "\n",
              "    .dataframe tbody tr th {\n",
              "        vertical-align: top;\n",
              "    }\n",
              "\n",
              "    .dataframe thead th {\n",
              "        text-align: right;\n",
              "    }\n",
              "</style>\n",
              "<table border=\"1\" class=\"dataframe\">\n",
              "  <thead>\n",
              "    <tr style=\"text-align: right;\">\n",
              "      <th></th>\n",
              "      <th>URL</th>\n",
              "      <th>news_title</th>\n",
              "      <th>news_content</th>\n",
              "      <th>impact_level</th>\n",
              "      <th>impact_length</th>\n",
              "    </tr>\n",
              "  </thead>\n",
              "  <tbody>\n",
              "    <tr>\n",
              "      <th>0</th>\n",
              "      <td>https://www.esgtoday.com/arabesque-ai-appoints...</td>\n",
              "      <td>Arabesque AI Appoints Carolina Minio Paluello ...</td>\n",
              "      <td>ESG-focused financial technology company Arabe...</td>\n",
              "      <td>low</td>\n",
              "      <td>2 to 5 years</td>\n",
              "    </tr>\n",
              "    <tr>\n",
              "      <th>1</th>\n",
              "      <td>https://www.esgtoday.com/arabesque-ai-appoints...</td>\n",
              "      <td>Arabesque AI Appoints Carolina Minio Paluello ...</td>\n",
              "      <td>The company also announced the appointment of ...</td>\n",
              "      <td>low</td>\n",
              "      <td>2 to 5 years</td>\n",
              "    </tr>\n",
              "    <tr>\n",
              "      <th>2</th>\n",
              "      <td>https://www.esgtoday.com/arabesque-ai-appoints...</td>\n",
              "      <td>Arabesque AI Appoints Carolina Minio Paluello ...</td>\n",
              "      <td>Wong said:  \\n“Personalised portfolios demand ...</td>\n",
              "      <td>medium</td>\n",
              "      <td>2 to 5 years</td>\n",
              "    </tr>\n",
              "    <tr>\n",
              "      <th>3</th>\n",
              "      <td>https://www.esgtoday.com/ukraine-war-inflation...</td>\n",
              "      <td>Ukraine War, Inflation Reduction Act Driving F...</td>\n",
              "      <td>One of the key themes of the report is the imp...</td>\n",
              "      <td>high</td>\n",
              "      <td>More than 5 years</td>\n",
              "    </tr>\n",
              "    <tr>\n",
              "      <th>4</th>\n",
              "      <td>https://www.esgtoday.com/eu-regulators-welcome...</td>\n",
              "      <td>EU Regulators Welcome, Critique New European S...</td>\n",
              "      <td>Europe’s three primary financial regulatory ag...</td>\n",
              "      <td>medium</td>\n",
              "      <td>Less than 2 years</td>\n",
              "    </tr>\n",
              "  </tbody>\n",
              "</table>\n",
              "</div>\n",
              "    <div class=\"colab-df-buttons\">\n",
              "\n",
              "  <div class=\"colab-df-container\">\n",
              "    <button class=\"colab-df-convert\" onclick=\"convertToInteractive('df-81f60463-612e-4657-8378-08508d63fdc8')\"\n",
              "            title=\"Convert this dataframe to an interactive table.\"\n",
              "            style=\"display:none;\">\n",
              "\n",
              "  <svg xmlns=\"http://www.w3.org/2000/svg\" height=\"24px\" viewBox=\"0 -960 960 960\">\n",
              "    <path d=\"M120-120v-720h720v720H120Zm60-500h600v-160H180v160Zm220 220h160v-160H400v160Zm0 220h160v-160H400v160ZM180-400h160v-160H180v160Zm440 0h160v-160H620v160ZM180-180h160v-160H180v160Zm440 0h160v-160H620v160Z\"/>\n",
              "  </svg>\n",
              "    </button>\n",
              "\n",
              "  <style>\n",
              "    .colab-df-container {\n",
              "      display:flex;\n",
              "      gap: 12px;\n",
              "    }\n",
              "\n",
              "    .colab-df-convert {\n",
              "      background-color: #E8F0FE;\n",
              "      border: none;\n",
              "      border-radius: 50%;\n",
              "      cursor: pointer;\n",
              "      display: none;\n",
              "      fill: #1967D2;\n",
              "      height: 32px;\n",
              "      padding: 0 0 0 0;\n",
              "      width: 32px;\n",
              "    }\n",
              "\n",
              "    .colab-df-convert:hover {\n",
              "      background-color: #E2EBFA;\n",
              "      box-shadow: 0px 1px 2px rgba(60, 64, 67, 0.3), 0px 1px 3px 1px rgba(60, 64, 67, 0.15);\n",
              "      fill: #174EA6;\n",
              "    }\n",
              "\n",
              "    .colab-df-buttons div {\n",
              "      margin-bottom: 4px;\n",
              "    }\n",
              "\n",
              "    [theme=dark] .colab-df-convert {\n",
              "      background-color: #3B4455;\n",
              "      fill: #D2E3FC;\n",
              "    }\n",
              "\n",
              "    [theme=dark] .colab-df-convert:hover {\n",
              "      background-color: #434B5C;\n",
              "      box-shadow: 0px 1px 3px 1px rgba(0, 0, 0, 0.15);\n",
              "      filter: drop-shadow(0px 1px 2px rgba(0, 0, 0, 0.3));\n",
              "      fill: #FFFFFF;\n",
              "    }\n",
              "  </style>\n",
              "\n",
              "    <script>\n",
              "      const buttonEl =\n",
              "        document.querySelector('#df-81f60463-612e-4657-8378-08508d63fdc8 button.colab-df-convert');\n",
              "      buttonEl.style.display =\n",
              "        google.colab.kernel.accessAllowed ? 'block' : 'none';\n",
              "\n",
              "      async function convertToInteractive(key) {\n",
              "        const element = document.querySelector('#df-81f60463-612e-4657-8378-08508d63fdc8');\n",
              "        const dataTable =\n",
              "          await google.colab.kernel.invokeFunction('convertToInteractive',\n",
              "                                                    [key], {});\n",
              "        if (!dataTable) return;\n",
              "\n",
              "        const docLinkHtml = 'Like what you see? Visit the ' +\n",
              "          '<a target=\"_blank\" href=https://colab.research.google.com/notebooks/data_table.ipynb>data table notebook</a>'\n",
              "          + ' to learn more about interactive tables.';\n",
              "        element.innerHTML = '';\n",
              "        dataTable['output_type'] = 'display_data';\n",
              "        await google.colab.output.renderOutput(dataTable, element);\n",
              "        const docLink = document.createElement('div');\n",
              "        docLink.innerHTML = docLinkHtml;\n",
              "        element.appendChild(docLink);\n",
              "      }\n",
              "    </script>\n",
              "  </div>\n",
              "\n",
              "\n",
              "<div id=\"df-89e8a4ba-b9f8-4777-b13d-355ad813919f\">\n",
              "  <button class=\"colab-df-quickchart\" onclick=\"quickchart('df-89e8a4ba-b9f8-4777-b13d-355ad813919f')\"\n",
              "            title=\"Suggest charts\"\n",
              "            style=\"display:none;\">\n",
              "\n",
              "<svg xmlns=\"http://www.w3.org/2000/svg\" height=\"24px\"viewBox=\"0 0 24 24\"\n",
              "     width=\"24px\">\n",
              "    <g>\n",
              "        <path d=\"M19 3H5c-1.1 0-2 .9-2 2v14c0 1.1.9 2 2 2h14c1.1 0 2-.9 2-2V5c0-1.1-.9-2-2-2zM9 17H7v-7h2v7zm4 0h-2V7h2v10zm4 0h-2v-4h2v4z\"/>\n",
              "    </g>\n",
              "</svg>\n",
              "  </button>\n",
              "\n",
              "<style>\n",
              "  .colab-df-quickchart {\n",
              "      --bg-color: #E8F0FE;\n",
              "      --fill-color: #1967D2;\n",
              "      --hover-bg-color: #E2EBFA;\n",
              "      --hover-fill-color: #174EA6;\n",
              "      --disabled-fill-color: #AAA;\n",
              "      --disabled-bg-color: #DDD;\n",
              "  }\n",
              "\n",
              "  [theme=dark] .colab-df-quickchart {\n",
              "      --bg-color: #3B4455;\n",
              "      --fill-color: #D2E3FC;\n",
              "      --hover-bg-color: #434B5C;\n",
              "      --hover-fill-color: #FFFFFF;\n",
              "      --disabled-bg-color: #3B4455;\n",
              "      --disabled-fill-color: #666;\n",
              "  }\n",
              "\n",
              "  .colab-df-quickchart {\n",
              "    background-color: var(--bg-color);\n",
              "    border: none;\n",
              "    border-radius: 50%;\n",
              "    cursor: pointer;\n",
              "    display: none;\n",
              "    fill: var(--fill-color);\n",
              "    height: 32px;\n",
              "    padding: 0;\n",
              "    width: 32px;\n",
              "  }\n",
              "\n",
              "  .colab-df-quickchart:hover {\n",
              "    background-color: var(--hover-bg-color);\n",
              "    box-shadow: 0 1px 2px rgba(60, 64, 67, 0.3), 0 1px 3px 1px rgba(60, 64, 67, 0.15);\n",
              "    fill: var(--button-hover-fill-color);\n",
              "  }\n",
              "\n",
              "  .colab-df-quickchart-complete:disabled,\n",
              "  .colab-df-quickchart-complete:disabled:hover {\n",
              "    background-color: var(--disabled-bg-color);\n",
              "    fill: var(--disabled-fill-color);\n",
              "    box-shadow: none;\n",
              "  }\n",
              "\n",
              "  .colab-df-spinner {\n",
              "    border: 2px solid var(--fill-color);\n",
              "    border-color: transparent;\n",
              "    border-bottom-color: var(--fill-color);\n",
              "    animation:\n",
              "      spin 1s steps(1) infinite;\n",
              "  }\n",
              "\n",
              "  @keyframes spin {\n",
              "    0% {\n",
              "      border-color: transparent;\n",
              "      border-bottom-color: var(--fill-color);\n",
              "      border-left-color: var(--fill-color);\n",
              "    }\n",
              "    20% {\n",
              "      border-color: transparent;\n",
              "      border-left-color: var(--fill-color);\n",
              "      border-top-color: var(--fill-color);\n",
              "    }\n",
              "    30% {\n",
              "      border-color: transparent;\n",
              "      border-left-color: var(--fill-color);\n",
              "      border-top-color: var(--fill-color);\n",
              "      border-right-color: var(--fill-color);\n",
              "    }\n",
              "    40% {\n",
              "      border-color: transparent;\n",
              "      border-right-color: var(--fill-color);\n",
              "      border-top-color: var(--fill-color);\n",
              "    }\n",
              "    60% {\n",
              "      border-color: transparent;\n",
              "      border-right-color: var(--fill-color);\n",
              "    }\n",
              "    80% {\n",
              "      border-color: transparent;\n",
              "      border-right-color: var(--fill-color);\n",
              "      border-bottom-color: var(--fill-color);\n",
              "    }\n",
              "    90% {\n",
              "      border-color: transparent;\n",
              "      border-bottom-color: var(--fill-color);\n",
              "    }\n",
              "  }\n",
              "</style>\n",
              "\n",
              "  <script>\n",
              "    async function quickchart(key) {\n",
              "      const quickchartButtonEl =\n",
              "        document.querySelector('#' + key + ' button');\n",
              "      quickchartButtonEl.disabled = true;  // To prevent multiple clicks.\n",
              "      quickchartButtonEl.classList.add('colab-df-spinner');\n",
              "      try {\n",
              "        const charts = await google.colab.kernel.invokeFunction(\n",
              "            'suggestCharts', [key], {});\n",
              "      } catch (error) {\n",
              "        console.error('Error during call to suggestCharts:', error);\n",
              "      }\n",
              "      quickchartButtonEl.classList.remove('colab-df-spinner');\n",
              "      quickchartButtonEl.classList.add('colab-df-quickchart-complete');\n",
              "    }\n",
              "    (() => {\n",
              "      let quickchartButtonEl =\n",
              "        document.querySelector('#df-89e8a4ba-b9f8-4777-b13d-355ad813919f button');\n",
              "      quickchartButtonEl.style.display =\n",
              "        google.colab.kernel.accessAllowed ? 'block' : 'none';\n",
              "    })();\n",
              "  </script>\n",
              "</div>\n",
              "\n",
              "    </div>\n",
              "  </div>\n"
            ],
            "application/vnd.google.colaboratory.intrinsic+json": {
              "type": "dataframe",
              "variable_name": "train_df",
              "summary": "{\n  \"name\": \"train_df\",\n  \"rows\": 545,\n  \"fields\": [\n    {\n      \"column\": \"URL\",\n      \"properties\": {\n        \"dtype\": \"string\",\n        \"num_unique_values\": 339,\n        \"samples\": [\n          \"https://www.esgtoday.com/six-launches-gender-equality-index/\",\n          \"https://www.esgtoday.com/green-steel-startup-h2gs-raises-105-million-in-equity-financing/\",\n          \"https://www.esgtoday.com/activist-shareholders-win-spots-on-exxon-board-as-demand-for-climate-action-accelerates/\"\n        ],\n        \"semantic_type\": \"\",\n        \"description\": \"\"\n      }\n    },\n    {\n      \"column\": \"news_title\",\n      \"properties\": {\n        \"dtype\": \"string\",\n        \"num_unique_values\": 339,\n        \"samples\": [\n          \"SIX Launches Gender Equality Index\",\n          \"Green Steel Startup H2GS Raises $105 Million in Equity Financing\",\n          \"Activist Shareholders Win Spots on Exxon Board as Demand for Climate Action Accelerates\"\n        ],\n        \"semantic_type\": \"\",\n        \"description\": \"\"\n      }\n    },\n    {\n      \"column\": \"news_content\",\n      \"properties\": {\n        \"dtype\": \"string\",\n        \"num_unique_values\": 545,\n        \"samples\": [\n          \"In its proxy filing, the company stated: \\u201cBeginning in 2021, an environmental, social, and governance modifier based on Apple Values and other key community initiatives will be incorporated into our annual cash incentive program. This change is intended to further motivate Apple\\u2019s executive team to meet exceptionally high standards of values-driven leadership in addition to delivering strong financial results.\\u201d\",\n          \"Daniel Hanna, Barclays Global Head of Sustainable Finance for the CIB, said: \\n\\u201cBarclays is uniquely positioned to help scale the new climate technologies that will decarbonise industries and create green jobs. Many of the technologies that are required to achieve Net Zero have not yet reached commercial scale. Barclays can play a critical role though leveraging our experience as an advisor, bank, and investor through our Sustainable Impact Capital Programme to help accelerate their development and adoption.\\u201c\",\n          \"DHL Supply Chain, the world\\u2019s leading contract logistics provider, expands its logistics service offerings with a new solutions suite for recovery management, especially relevant for tech companies. The new circular supply chain solution supports companies in enabling appropriate reuse, reprocessing, or recycling of used electronic parts e.g. like processors, touchscreens, computer modules or tech assets. By implementing new business models to reduce electronic waste, so-called e-waste, companies can lower their environmental impact and avoid the loss of scarce raw materials. As an industry leader, DHL can offer this recovery service alongside the entire supply chain globally.\"\n        ],\n        \"semantic_type\": \"\",\n        \"description\": \"\"\n      }\n    },\n    {\n      \"column\": \"impact_level\",\n      \"properties\": {\n        \"dtype\": \"category\",\n        \"num_unique_values\": 3,\n        \"samples\": [\n          \"low\",\n          \"medium\",\n          \"high\"\n        ],\n        \"semantic_type\": \"\",\n        \"description\": \"\"\n      }\n    },\n    {\n      \"column\": \"impact_length\",\n      \"properties\": {\n        \"dtype\": \"category\",\n        \"num_unique_values\": 3,\n        \"samples\": [\n          \"2 to 5 years\",\n          \"More than 5 years\",\n          \"Less than 2 years\"\n        ],\n        \"semantic_type\": \"\",\n        \"description\": \"\"\n      }\n    }\n  ]\n}"
            }
          },
          "metadata": {},
          "execution_count": 6
        }
      ],
      "source": [
        "train_df.head()"
      ]
    },
    {
      "cell_type": "code",
      "execution_count": 7,
      "metadata": {
        "colab": {
          "base_uri": "https://localhost:8080/"
        },
        "id": "DpkA-MzZvzwV",
        "outputId": "420a81a6-9510-4d68-f374-63b68edccd67"
      },
      "outputs": [
        {
          "output_type": "stream",
          "name": "stdout",
          "text": [
            "Shape of the trainset: (545, 5)\n",
            "Shape of the testset: (136, 5)\n"
          ]
        }
      ],
      "source": [
        "print(f\"Shape of the trainset: {train_df.shape}\")\n",
        "print(f\"Shape of the testset: {test_df.shape}\")"
      ]
    },
    {
      "cell_type": "code",
      "execution_count": 8,
      "metadata": {
        "colab": {
          "base_uri": "https://localhost:8080/",
          "height": 254
        },
        "id": "pCK0D6eXv1-J",
        "outputId": "75ffe320-aa43-4c33-fef8-f495872ac366"
      },
      "outputs": [
        {
          "output_type": "stream",
          "name": "stdout",
          "text": [
            "<class 'pandas.core.frame.DataFrame'>\n",
            "RangeIndex: 545 entries, 0 to 544\n",
            "Data columns (total 5 columns):\n",
            " #   Column         Non-Null Count  Dtype \n",
            "---  ------         --------------  ----- \n",
            " 0   URL            545 non-null    object\n",
            " 1   news_title     545 non-null    object\n",
            " 2   news_content   545 non-null    object\n",
            " 3   impact_level   545 non-null    object\n",
            " 4   impact_length  545 non-null    object\n",
            "dtypes: object(5)\n",
            "memory usage: 21.4+ KB\n"
          ]
        },
        {
          "output_type": "display_data",
          "data": {
            "text/plain": [
              "None"
            ]
          },
          "metadata": {}
        }
      ],
      "source": [
        "display(train_df.info())"
      ]
    },
    {
      "cell_type": "code",
      "execution_count": 9,
      "metadata": {
        "colab": {
          "base_uri": "https://localhost:8080/"
        },
        "id": "4RwJsQJXv6H1",
        "outputId": "faf971fd-c941-4076-884c-16b165fc5255"
      },
      "outputs": [
        {
          "output_type": "stream",
          "name": "stdout",
          "text": [
            "URL              339\n",
            "news_title       339\n",
            "news_content     545\n",
            "impact_level       3\n",
            "impact_length      3\n",
            "dtype: int64\n"
          ]
        }
      ],
      "source": [
        "print(train_df.nunique())"
      ]
    },
    {
      "cell_type": "markdown",
      "metadata": {
        "id": "gkWRqeCuv7xJ"
      },
      "source": [
        "From the above results we can observe that two features that are categorical, because they have only three unique values. Let's focus on these to features and make some insights."
      ]
    },
    {
      "cell_type": "code",
      "execution_count": 10,
      "metadata": {
        "colab": {
          "base_uri": "https://localhost:8080/"
        },
        "id": "74ICFdqbv9gG",
        "outputId": "4a33d523-0f64-411e-f937-b935f6a02c3f"
      },
      "outputs": [
        {
          "output_type": "stream",
          "name": "stdout",
          "text": [
            "Below are the categorical values of impact_level\n"
          ]
        },
        {
          "output_type": "execute_result",
          "data": {
            "text/plain": [
              "array(['low', 'medium', 'high'], dtype=object)"
            ]
          },
          "metadata": {},
          "execution_count": 10
        }
      ],
      "source": [
        "print(\"Below are the categorical values of impact_level\")\n",
        "train_df['impact_level'].unique()"
      ]
    },
    {
      "cell_type": "code",
      "execution_count": 11,
      "metadata": {
        "colab": {
          "base_uri": "https://localhost:8080/"
        },
        "id": "sa09E1f6wBJk",
        "outputId": "3a6dd5dd-75ec-4bc9-8fce-d09c01b97f8c"
      },
      "outputs": [
        {
          "output_type": "stream",
          "name": "stdout",
          "text": [
            "Below are the categorical values of impact_length\n"
          ]
        },
        {
          "output_type": "execute_result",
          "data": {
            "text/plain": [
              "array(['2 to 5 years', 'More than 5 years', 'Less than 2 years'],\n",
              "      dtype=object)"
            ]
          },
          "metadata": {},
          "execution_count": 11
        }
      ],
      "source": [
        "print(\"Below are the categorical values of impact_length\")\n",
        "train_df['impact_length'].unique()"
      ]
    },
    {
      "cell_type": "code",
      "execution_count": 12,
      "metadata": {
        "colab": {
          "base_uri": "https://localhost:8080/",
          "height": 542
        },
        "id": "tspotTo9wCaV",
        "outputId": "1be6ea12-cb6e-4142-d621-32a993348ae1"
      },
      "outputs": [
        {
          "output_type": "display_data",
          "data": {
            "text/html": [
              "<html>\n",
              "<head><meta charset=\"utf-8\" /></head>\n",
              "<body>\n",
              "    <div>            <script src=\"https://cdnjs.cloudflare.com/ajax/libs/mathjax/2.7.5/MathJax.js?config=TeX-AMS-MML_SVG\"></script><script type=\"text/javascript\">if (window.MathJax && window.MathJax.Hub && window.MathJax.Hub.Config) {window.MathJax.Hub.Config({SVG: {font: \"STIX-Web\"}});}</script>                <script type=\"text/javascript\">window.PlotlyConfig = {MathJaxConfig: 'local'};</script>\n",
              "        <script charset=\"utf-8\" src=\"https://cdn.plot.ly/plotly-2.35.2.min.js\"></script>                <div id=\"4c047d61-1bf9-410d-a7ef-f90312870151\" class=\"plotly-graph-div\" style=\"height:525px; width:100%;\"></div>            <script type=\"text/javascript\">                                    window.PLOTLYENV=window.PLOTLYENV || {};                                    if (document.getElementById(\"4c047d61-1bf9-410d-a7ef-f90312870151\")) {                    Plotly.newPlot(                        \"4c047d61-1bf9-410d-a7ef-f90312870151\",                        [{\"alignmentgroup\":\"True\",\"bingroup\":\"x\",\"hovertemplate\":\"impact_level=%{x}\\u003cbr\\u003ecount=%{y}\\u003cextra\\u003e\\u003c\\u002fextra\\u003e\",\"legendgroup\":\"\",\"marker\":{\"color\":\"#636efa\",\"pattern\":{\"shape\":\"\"}},\"name\":\"\",\"nbinsx\":30,\"offsetgroup\":\"\",\"orientation\":\"v\",\"showlegend\":false,\"x\":[\"low\",\"low\",\"medium\",\"high\",\"medium\",\"high\",\"high\",\"medium\",\"medium\",\"low\",\"high\",\"high\",\"medium\",\"medium\",\"high\",\"medium\",\"low\",\"medium\",\"medium\",\"high\",\"high\",\"medium\",\"low\",\"medium\",\"high\",\"high\",\"low\",\"high\",\"high\",\"medium\",\"high\",\"medium\",\"medium\",\"medium\",\"medium\",\"medium\",\"high\",\"high\",\"high\",\"low\",\"high\",\"medium\",\"medium\",\"medium\",\"medium\",\"high\",\"medium\",\"high\",\"high\",\"medium\",\"medium\",\"high\",\"high\",\"medium\",\"low\",\"high\",\"high\",\"high\",\"medium\",\"low\",\"medium\",\"medium\",\"medium\",\"medium\",\"high\",\"high\",\"medium\",\"high\",\"high\",\"high\",\"high\",\"high\",\"high\",\"high\",\"high\",\"high\",\"high\",\"medium\",\"medium\",\"medium\",\"high\",\"high\",\"high\",\"medium\",\"low\",\"medium\",\"medium\",\"medium\",\"low\",\"medium\",\"medium\",\"medium\",\"medium\",\"medium\",\"medium\",\"high\",\"medium\",\"medium\",\"high\",\"low\",\"medium\",\"high\",\"low\",\"high\",\"high\",\"low\",\"medium\",\"high\",\"medium\",\"high\",\"medium\",\"high\",\"high\",\"low\",\"medium\",\"medium\",\"medium\",\"medium\",\"medium\",\"high\",\"medium\",\"high\",\"high\",\"high\",\"high\",\"medium\",\"medium\",\"medium\",\"medium\",\"medium\",\"low\",\"medium\",\"medium\",\"medium\",\"high\",\"medium\",\"medium\",\"medium\",\"medium\",\"medium\",\"low\",\"high\",\"low\",\"medium\",\"low\",\"medium\",\"low\",\"medium\",\"low\",\"low\",\"high\",\"low\",\"low\",\"low\",\"high\",\"low\",\"medium\",\"medium\",\"medium\",\"medium\",\"medium\",\"medium\",\"medium\",\"medium\",\"medium\",\"medium\",\"medium\",\"medium\",\"high\",\"medium\",\"medium\",\"medium\",\"high\",\"high\",\"medium\",\"high\",\"medium\",\"medium\",\"high\",\"high\",\"medium\",\"high\",\"medium\",\"medium\",\"high\",\"medium\",\"medium\",\"medium\",\"medium\",\"medium\",\"medium\",\"medium\",\"medium\",\"medium\",\"medium\",\"low\",\"high\",\"medium\",\"medium\",\"high\",\"medium\",\"high\",\"high\",\"medium\",\"low\",\"low\",\"low\",\"medium\",\"high\",\"medium\",\"high\",\"medium\",\"low\",\"low\",\"low\",\"medium\",\"high\",\"high\",\"high\",\"high\",\"high\",\"high\",\"medium\",\"high\",\"medium\",\"high\",\"medium\",\"medium\",\"medium\",\"medium\",\"medium\",\"high\",\"low\",\"low\",\"low\",\"low\",\"low\",\"low\",\"low\",\"low\",\"low\",\"low\",\"high\",\"medium\",\"high\",\"medium\",\"medium\",\"low\",\"low\",\"medium\",\"medium\",\"high\",\"high\",\"high\",\"medium\",\"medium\",\"high\",\"high\",\"medium\",\"high\",\"medium\",\"high\",\"high\",\"medium\",\"medium\",\"medium\",\"medium\",\"medium\",\"high\",\"high\",\"low\",\"low\",\"low\",\"high\",\"high\",\"high\",\"high\",\"high\",\"high\",\"low\",\"high\",\"high\",\"low\",\"high\",\"high\",\"medium\",\"medium\",\"medium\",\"medium\",\"medium\",\"low\",\"medium\",\"medium\",\"medium\",\"high\",\"medium\",\"low\",\"high\",\"medium\",\"high\",\"medium\",\"high\",\"medium\",\"high\",\"medium\",\"medium\",\"high\",\"high\",\"high\",\"high\",\"high\",\"high\",\"medium\",\"medium\",\"high\",\"high\",\"medium\",\"high\",\"high\",\"high\",\"high\",\"high\",\"high\",\"high\",\"high\",\"high\",\"high\",\"high\",\"medium\",\"medium\",\"high\",\"medium\",\"medium\",\"medium\",\"medium\",\"high\",\"high\",\"high\",\"medium\",\"high\",\"high\",\"medium\",\"high\",\"high\",\"high\",\"high\",\"high\",\"high\",\"medium\",\"high\",\"high\",\"high\",\"medium\",\"medium\",\"medium\",\"medium\",\"high\",\"medium\",\"medium\",\"high\",\"high\",\"medium\",\"high\",\"medium\",\"medium\",\"medium\",\"medium\",\"medium\",\"medium\",\"medium\",\"high\",\"medium\",\"medium\",\"high\",\"medium\",\"medium\",\"medium\",\"high\",\"medium\",\"medium\",\"high\",\"high\",\"high\",\"high\",\"high\",\"high\",\"high\",\"medium\",\"high\",\"high\",\"medium\",\"medium\",\"high\",\"high\",\"high\",\"high\",\"high\",\"high\",\"high\",\"high\",\"high\",\"high\",\"medium\",\"high\",\"medium\",\"high\",\"medium\",\"medium\",\"high\",\"high\",\"medium\",\"medium\",\"high\",\"high\",\"low\",\"medium\",\"medium\",\"low\",\"medium\",\"medium\",\"medium\",\"high\",\"medium\",\"low\",\"low\",\"low\",\"medium\",\"medium\",\"low\",\"high\",\"low\",\"low\",\"medium\",\"low\",\"low\",\"low\",\"medium\",\"low\",\"low\",\"low\",\"low\",\"low\",\"low\",\"low\",\"low\",\"low\",\"low\",\"low\",\"medium\",\"low\",\"low\",\"medium\",\"medium\",\"medium\",\"medium\",\"medium\",\"high\",\"high\",\"medium\",\"medium\",\"medium\",\"high\",\"low\",\"medium\",\"high\",\"low\",\"high\",\"medium\",\"medium\",\"medium\",\"medium\",\"low\",\"medium\",\"high\",\"medium\",\"medium\",\"low\",\"medium\",\"low\",\"medium\",\"medium\",\"low\",\"high\",\"high\",\"high\",\"medium\",\"low\",\"medium\",\"medium\",\"low\",\"low\",\"low\",\"high\",\"medium\",\"high\",\"low\",\"low\",\"medium\",\"low\",\"medium\",\"low\",\"medium\",\"high\",\"low\",\"high\",\"low\",\"medium\",\"low\",\"high\",\"medium\",\"high\",\"medium\",\"high\",\"high\",\"high\",\"medium\",\"low\",\"medium\",\"low\",\"high\",\"low\",\"medium\",\"medium\",\"medium\",\"medium\",\"high\",\"low\",\"medium\",\"medium\",\"medium\",\"low\",\"low\",\"low\",\"low\",\"low\",\"low\",\"medium\",\"medium\",\"medium\",\"medium\",\"low\",\"low\",\"medium\",\"low\",\"medium\"],\"xaxis\":\"x\",\"yaxis\":\"y\",\"type\":\"histogram\"},{\"alignmentgroup\":\"True\",\"boxpoints\":\"all\",\"fillcolor\":\"rgba(255,255,255,0)\",\"hoveron\":\"points\",\"hovertemplate\":\"impact_level=%{x}\\u003cextra\\u003e\\u003c\\u002fextra\\u003e\",\"jitter\":0,\"legendgroup\":\"\",\"line\":{\"color\":\"rgba(255,255,255,0)\"},\"marker\":{\"color\":\"#636efa\",\"symbol\":\"line-ns-open\"},\"name\":\"\",\"offsetgroup\":\"\",\"showlegend\":false,\"x\":[\"low\",\"low\",\"medium\",\"high\",\"medium\",\"high\",\"high\",\"medium\",\"medium\",\"low\",\"high\",\"high\",\"medium\",\"medium\",\"high\",\"medium\",\"low\",\"medium\",\"medium\",\"high\",\"high\",\"medium\",\"low\",\"medium\",\"high\",\"high\",\"low\",\"high\",\"high\",\"medium\",\"high\",\"medium\",\"medium\",\"medium\",\"medium\",\"medium\",\"high\",\"high\",\"high\",\"low\",\"high\",\"medium\",\"medium\",\"medium\",\"medium\",\"high\",\"medium\",\"high\",\"high\",\"medium\",\"medium\",\"high\",\"high\",\"medium\",\"low\",\"high\",\"high\",\"high\",\"medium\",\"low\",\"medium\",\"medium\",\"medium\",\"medium\",\"high\",\"high\",\"medium\",\"high\",\"high\",\"high\",\"high\",\"high\",\"high\",\"high\",\"high\",\"high\",\"high\",\"medium\",\"medium\",\"medium\",\"high\",\"high\",\"high\",\"medium\",\"low\",\"medium\",\"medium\",\"medium\",\"low\",\"medium\",\"medium\",\"medium\",\"medium\",\"medium\",\"medium\",\"high\",\"medium\",\"medium\",\"high\",\"low\",\"medium\",\"high\",\"low\",\"high\",\"high\",\"low\",\"medium\",\"high\",\"medium\",\"high\",\"medium\",\"high\",\"high\",\"low\",\"medium\",\"medium\",\"medium\",\"medium\",\"medium\",\"high\",\"medium\",\"high\",\"high\",\"high\",\"high\",\"medium\",\"medium\",\"medium\",\"medium\",\"medium\",\"low\",\"medium\",\"medium\",\"medium\",\"high\",\"medium\",\"medium\",\"medium\",\"medium\",\"medium\",\"low\",\"high\",\"low\",\"medium\",\"low\",\"medium\",\"low\",\"medium\",\"low\",\"low\",\"high\",\"low\",\"low\",\"low\",\"high\",\"low\",\"medium\",\"medium\",\"medium\",\"medium\",\"medium\",\"medium\",\"medium\",\"medium\",\"medium\",\"medium\",\"medium\",\"medium\",\"high\",\"medium\",\"medium\",\"medium\",\"high\",\"high\",\"medium\",\"high\",\"medium\",\"medium\",\"high\",\"high\",\"medium\",\"high\",\"medium\",\"medium\",\"high\",\"medium\",\"medium\",\"medium\",\"medium\",\"medium\",\"medium\",\"medium\",\"medium\",\"medium\",\"medium\",\"low\",\"high\",\"medium\",\"medium\",\"high\",\"medium\",\"high\",\"high\",\"medium\",\"low\",\"low\",\"low\",\"medium\",\"high\",\"medium\",\"high\",\"medium\",\"low\",\"low\",\"low\",\"medium\",\"high\",\"high\",\"high\",\"high\",\"high\",\"high\",\"medium\",\"high\",\"medium\",\"high\",\"medium\",\"medium\",\"medium\",\"medium\",\"medium\",\"high\",\"low\",\"low\",\"low\",\"low\",\"low\",\"low\",\"low\",\"low\",\"low\",\"low\",\"high\",\"medium\",\"high\",\"medium\",\"medium\",\"low\",\"low\",\"medium\",\"medium\",\"high\",\"high\",\"high\",\"medium\",\"medium\",\"high\",\"high\",\"medium\",\"high\",\"medium\",\"high\",\"high\",\"medium\",\"medium\",\"medium\",\"medium\",\"medium\",\"high\",\"high\",\"low\",\"low\",\"low\",\"high\",\"high\",\"high\",\"high\",\"high\",\"high\",\"low\",\"high\",\"high\",\"low\",\"high\",\"high\",\"medium\",\"medium\",\"medium\",\"medium\",\"medium\",\"low\",\"medium\",\"medium\",\"medium\",\"high\",\"medium\",\"low\",\"high\",\"medium\",\"high\",\"medium\",\"high\",\"medium\",\"high\",\"medium\",\"medium\",\"high\",\"high\",\"high\",\"high\",\"high\",\"high\",\"medium\",\"medium\",\"high\",\"high\",\"medium\",\"high\",\"high\",\"high\",\"high\",\"high\",\"high\",\"high\",\"high\",\"high\",\"high\",\"high\",\"medium\",\"medium\",\"high\",\"medium\",\"medium\",\"medium\",\"medium\",\"high\",\"high\",\"high\",\"medium\",\"high\",\"high\",\"medium\",\"high\",\"high\",\"high\",\"high\",\"high\",\"high\",\"medium\",\"high\",\"high\",\"high\",\"medium\",\"medium\",\"medium\",\"medium\",\"high\",\"medium\",\"medium\",\"high\",\"high\",\"medium\",\"high\",\"medium\",\"medium\",\"medium\",\"medium\",\"medium\",\"medium\",\"medium\",\"high\",\"medium\",\"medium\",\"high\",\"medium\",\"medium\",\"medium\",\"high\",\"medium\",\"medium\",\"high\",\"high\",\"high\",\"high\",\"high\",\"high\",\"high\",\"medium\",\"high\",\"high\",\"medium\",\"medium\",\"high\",\"high\",\"high\",\"high\",\"high\",\"high\",\"high\",\"high\",\"high\",\"high\",\"medium\",\"high\",\"medium\",\"high\",\"medium\",\"medium\",\"high\",\"high\",\"medium\",\"medium\",\"high\",\"high\",\"low\",\"medium\",\"medium\",\"low\",\"medium\",\"medium\",\"medium\",\"high\",\"medium\",\"low\",\"low\",\"low\",\"medium\",\"medium\",\"low\",\"high\",\"low\",\"low\",\"medium\",\"low\",\"low\",\"low\",\"medium\",\"low\",\"low\",\"low\",\"low\",\"low\",\"low\",\"low\",\"low\",\"low\",\"low\",\"low\",\"medium\",\"low\",\"low\",\"medium\",\"medium\",\"medium\",\"medium\",\"medium\",\"high\",\"high\",\"medium\",\"medium\",\"medium\",\"high\",\"low\",\"medium\",\"high\",\"low\",\"high\",\"medium\",\"medium\",\"medium\",\"medium\",\"low\",\"medium\",\"high\",\"medium\",\"medium\",\"low\",\"medium\",\"low\",\"medium\",\"medium\",\"low\",\"high\",\"high\",\"high\",\"medium\",\"low\",\"medium\",\"medium\",\"low\",\"low\",\"low\",\"high\",\"medium\",\"high\",\"low\",\"low\",\"medium\",\"low\",\"medium\",\"low\",\"medium\",\"high\",\"low\",\"high\",\"low\",\"medium\",\"low\",\"high\",\"medium\",\"high\",\"medium\",\"high\",\"high\",\"high\",\"medium\",\"low\",\"medium\",\"low\",\"high\",\"low\",\"medium\",\"medium\",\"medium\",\"medium\",\"high\",\"low\",\"medium\",\"medium\",\"medium\",\"low\",\"low\",\"low\",\"low\",\"low\",\"low\",\"medium\",\"medium\",\"medium\",\"medium\",\"low\",\"low\",\"medium\",\"low\",\"medium\"],\"xaxis\":\"x2\",\"yaxis\":\"y2\",\"type\":\"box\"}],                        {\"template\":{\"data\":{\"histogram2dcontour\":[{\"type\":\"histogram2dcontour\",\"colorbar\":{\"outlinewidth\":0,\"ticks\":\"\"},\"colorscale\":[[0.0,\"#0d0887\"],[0.1111111111111111,\"#46039f\"],[0.2222222222222222,\"#7201a8\"],[0.3333333333333333,\"#9c179e\"],[0.4444444444444444,\"#bd3786\"],[0.5555555555555556,\"#d8576b\"],[0.6666666666666666,\"#ed7953\"],[0.7777777777777778,\"#fb9f3a\"],[0.8888888888888888,\"#fdca26\"],[1.0,\"#f0f921\"]]}],\"choropleth\":[{\"type\":\"choropleth\",\"colorbar\":{\"outlinewidth\":0,\"ticks\":\"\"}}],\"histogram2d\":[{\"type\":\"histogram2d\",\"colorbar\":{\"outlinewidth\":0,\"ticks\":\"\"},\"colorscale\":[[0.0,\"#0d0887\"],[0.1111111111111111,\"#46039f\"],[0.2222222222222222,\"#7201a8\"],[0.3333333333333333,\"#9c179e\"],[0.4444444444444444,\"#bd3786\"],[0.5555555555555556,\"#d8576b\"],[0.6666666666666666,\"#ed7953\"],[0.7777777777777778,\"#fb9f3a\"],[0.8888888888888888,\"#fdca26\"],[1.0,\"#f0f921\"]]}],\"heatmap\":[{\"type\":\"heatmap\",\"colorbar\":{\"outlinewidth\":0,\"ticks\":\"\"},\"colorscale\":[[0.0,\"#0d0887\"],[0.1111111111111111,\"#46039f\"],[0.2222222222222222,\"#7201a8\"],[0.3333333333333333,\"#9c179e\"],[0.4444444444444444,\"#bd3786\"],[0.5555555555555556,\"#d8576b\"],[0.6666666666666666,\"#ed7953\"],[0.7777777777777778,\"#fb9f3a\"],[0.8888888888888888,\"#fdca26\"],[1.0,\"#f0f921\"]]}],\"heatmapgl\":[{\"type\":\"heatmapgl\",\"colorbar\":{\"outlinewidth\":0,\"ticks\":\"\"},\"colorscale\":[[0.0,\"#0d0887\"],[0.1111111111111111,\"#46039f\"],[0.2222222222222222,\"#7201a8\"],[0.3333333333333333,\"#9c179e\"],[0.4444444444444444,\"#bd3786\"],[0.5555555555555556,\"#d8576b\"],[0.6666666666666666,\"#ed7953\"],[0.7777777777777778,\"#fb9f3a\"],[0.8888888888888888,\"#fdca26\"],[1.0,\"#f0f921\"]]}],\"contourcarpet\":[{\"type\":\"contourcarpet\",\"colorbar\":{\"outlinewidth\":0,\"ticks\":\"\"}}],\"contour\":[{\"type\":\"contour\",\"colorbar\":{\"outlinewidth\":0,\"ticks\":\"\"},\"colorscale\":[[0.0,\"#0d0887\"],[0.1111111111111111,\"#46039f\"],[0.2222222222222222,\"#7201a8\"],[0.3333333333333333,\"#9c179e\"],[0.4444444444444444,\"#bd3786\"],[0.5555555555555556,\"#d8576b\"],[0.6666666666666666,\"#ed7953\"],[0.7777777777777778,\"#fb9f3a\"],[0.8888888888888888,\"#fdca26\"],[1.0,\"#f0f921\"]]}],\"surface\":[{\"type\":\"surface\",\"colorbar\":{\"outlinewidth\":0,\"ticks\":\"\"},\"colorscale\":[[0.0,\"#0d0887\"],[0.1111111111111111,\"#46039f\"],[0.2222222222222222,\"#7201a8\"],[0.3333333333333333,\"#9c179e\"],[0.4444444444444444,\"#bd3786\"],[0.5555555555555556,\"#d8576b\"],[0.6666666666666666,\"#ed7953\"],[0.7777777777777778,\"#fb9f3a\"],[0.8888888888888888,\"#fdca26\"],[1.0,\"#f0f921\"]]}],\"mesh3d\":[{\"type\":\"mesh3d\",\"colorbar\":{\"outlinewidth\":0,\"ticks\":\"\"}}],\"scatter\":[{\"fillpattern\":{\"fillmode\":\"overlay\",\"size\":10,\"solidity\":0.2},\"type\":\"scatter\"}],\"parcoords\":[{\"type\":\"parcoords\",\"line\":{\"colorbar\":{\"outlinewidth\":0,\"ticks\":\"\"}}}],\"scatterpolargl\":[{\"type\":\"scatterpolargl\",\"marker\":{\"colorbar\":{\"outlinewidth\":0,\"ticks\":\"\"}}}],\"bar\":[{\"error_x\":{\"color\":\"#2a3f5f\"},\"error_y\":{\"color\":\"#2a3f5f\"},\"marker\":{\"line\":{\"color\":\"#E5ECF6\",\"width\":0.5},\"pattern\":{\"fillmode\":\"overlay\",\"size\":10,\"solidity\":0.2}},\"type\":\"bar\"}],\"scattergeo\":[{\"type\":\"scattergeo\",\"marker\":{\"colorbar\":{\"outlinewidth\":0,\"ticks\":\"\"}}}],\"scatterpolar\":[{\"type\":\"scatterpolar\",\"marker\":{\"colorbar\":{\"outlinewidth\":0,\"ticks\":\"\"}}}],\"histogram\":[{\"marker\":{\"pattern\":{\"fillmode\":\"overlay\",\"size\":10,\"solidity\":0.2}},\"type\":\"histogram\"}],\"scattergl\":[{\"type\":\"scattergl\",\"marker\":{\"colorbar\":{\"outlinewidth\":0,\"ticks\":\"\"}}}],\"scatter3d\":[{\"type\":\"scatter3d\",\"line\":{\"colorbar\":{\"outlinewidth\":0,\"ticks\":\"\"}},\"marker\":{\"colorbar\":{\"outlinewidth\":0,\"ticks\":\"\"}}}],\"scattermapbox\":[{\"type\":\"scattermapbox\",\"marker\":{\"colorbar\":{\"outlinewidth\":0,\"ticks\":\"\"}}}],\"scatterternary\":[{\"type\":\"scatterternary\",\"marker\":{\"colorbar\":{\"outlinewidth\":0,\"ticks\":\"\"}}}],\"scattercarpet\":[{\"type\":\"scattercarpet\",\"marker\":{\"colorbar\":{\"outlinewidth\":0,\"ticks\":\"\"}}}],\"carpet\":[{\"aaxis\":{\"endlinecolor\":\"#2a3f5f\",\"gridcolor\":\"white\",\"linecolor\":\"white\",\"minorgridcolor\":\"white\",\"startlinecolor\":\"#2a3f5f\"},\"baxis\":{\"endlinecolor\":\"#2a3f5f\",\"gridcolor\":\"white\",\"linecolor\":\"white\",\"minorgridcolor\":\"white\",\"startlinecolor\":\"#2a3f5f\"},\"type\":\"carpet\"}],\"table\":[{\"cells\":{\"fill\":{\"color\":\"#EBF0F8\"},\"line\":{\"color\":\"white\"}},\"header\":{\"fill\":{\"color\":\"#C8D4E3\"},\"line\":{\"color\":\"white\"}},\"type\":\"table\"}],\"barpolar\":[{\"marker\":{\"line\":{\"color\":\"#E5ECF6\",\"width\":0.5},\"pattern\":{\"fillmode\":\"overlay\",\"size\":10,\"solidity\":0.2}},\"type\":\"barpolar\"}],\"pie\":[{\"automargin\":true,\"type\":\"pie\"}]},\"layout\":{\"autotypenumbers\":\"strict\",\"colorway\":[\"#636efa\",\"#EF553B\",\"#00cc96\",\"#ab63fa\",\"#FFA15A\",\"#19d3f3\",\"#FF6692\",\"#B6E880\",\"#FF97FF\",\"#FECB52\"],\"font\":{\"color\":\"#2a3f5f\"},\"hovermode\":\"closest\",\"hoverlabel\":{\"align\":\"left\"},\"paper_bgcolor\":\"white\",\"plot_bgcolor\":\"#E5ECF6\",\"polar\":{\"bgcolor\":\"#E5ECF6\",\"angularaxis\":{\"gridcolor\":\"white\",\"linecolor\":\"white\",\"ticks\":\"\"},\"radialaxis\":{\"gridcolor\":\"white\",\"linecolor\":\"white\",\"ticks\":\"\"}},\"ternary\":{\"bgcolor\":\"#E5ECF6\",\"aaxis\":{\"gridcolor\":\"white\",\"linecolor\":\"white\",\"ticks\":\"\"},\"baxis\":{\"gridcolor\":\"white\",\"linecolor\":\"white\",\"ticks\":\"\"},\"caxis\":{\"gridcolor\":\"white\",\"linecolor\":\"white\",\"ticks\":\"\"}},\"coloraxis\":{\"colorbar\":{\"outlinewidth\":0,\"ticks\":\"\"}},\"colorscale\":{\"sequential\":[[0.0,\"#0d0887\"],[0.1111111111111111,\"#46039f\"],[0.2222222222222222,\"#7201a8\"],[0.3333333333333333,\"#9c179e\"],[0.4444444444444444,\"#bd3786\"],[0.5555555555555556,\"#d8576b\"],[0.6666666666666666,\"#ed7953\"],[0.7777777777777778,\"#fb9f3a\"],[0.8888888888888888,\"#fdca26\"],[1.0,\"#f0f921\"]],\"sequentialminus\":[[0.0,\"#0d0887\"],[0.1111111111111111,\"#46039f\"],[0.2222222222222222,\"#7201a8\"],[0.3333333333333333,\"#9c179e\"],[0.4444444444444444,\"#bd3786\"],[0.5555555555555556,\"#d8576b\"],[0.6666666666666666,\"#ed7953\"],[0.7777777777777778,\"#fb9f3a\"],[0.8888888888888888,\"#fdca26\"],[1.0,\"#f0f921\"]],\"diverging\":[[0,\"#8e0152\"],[0.1,\"#c51b7d\"],[0.2,\"#de77ae\"],[0.3,\"#f1b6da\"],[0.4,\"#fde0ef\"],[0.5,\"#f7f7f7\"],[0.6,\"#e6f5d0\"],[0.7,\"#b8e186\"],[0.8,\"#7fbc41\"],[0.9,\"#4d9221\"],[1,\"#276419\"]]},\"xaxis\":{\"gridcolor\":\"white\",\"linecolor\":\"white\",\"ticks\":\"\",\"title\":{\"standoff\":15},\"zerolinecolor\":\"white\",\"automargin\":true,\"zerolinewidth\":2},\"yaxis\":{\"gridcolor\":\"white\",\"linecolor\":\"white\",\"ticks\":\"\",\"title\":{\"standoff\":15},\"zerolinecolor\":\"white\",\"automargin\":true,\"zerolinewidth\":2},\"scene\":{\"xaxis\":{\"backgroundcolor\":\"#E5ECF6\",\"gridcolor\":\"white\",\"linecolor\":\"white\",\"showbackground\":true,\"ticks\":\"\",\"zerolinecolor\":\"white\",\"gridwidth\":2},\"yaxis\":{\"backgroundcolor\":\"#E5ECF6\",\"gridcolor\":\"white\",\"linecolor\":\"white\",\"showbackground\":true,\"ticks\":\"\",\"zerolinecolor\":\"white\",\"gridwidth\":2},\"zaxis\":{\"backgroundcolor\":\"#E5ECF6\",\"gridcolor\":\"white\",\"linecolor\":\"white\",\"showbackground\":true,\"ticks\":\"\",\"zerolinecolor\":\"white\",\"gridwidth\":2}},\"shapedefaults\":{\"line\":{\"color\":\"#2a3f5f\"}},\"annotationdefaults\":{\"arrowcolor\":\"#2a3f5f\",\"arrowhead\":0,\"arrowwidth\":1},\"geo\":{\"bgcolor\":\"white\",\"landcolor\":\"#E5ECF6\",\"subunitcolor\":\"white\",\"showland\":true,\"showlakes\":true,\"lakecolor\":\"white\"},\"title\":{\"x\":0.05},\"mapbox\":{\"style\":\"light\"}}},\"xaxis\":{\"anchor\":\"y\",\"domain\":[0.0,1.0],\"title\":{\"text\":\"impact_level\"}},\"yaxis\":{\"anchor\":\"x\",\"domain\":[0.0,0.8316],\"title\":{\"text\":\"Frequency\"}},\"xaxis2\":{\"anchor\":\"y2\",\"domain\":[0.0,1.0],\"matches\":\"x\",\"showticklabels\":false,\"showgrid\":true},\"yaxis2\":{\"anchor\":\"x2\",\"domain\":[0.8416,1.0],\"matches\":\"y2\",\"showticklabels\":false,\"showline\":false,\"ticks\":\"\",\"showgrid\":false},\"legend\":{\"tracegroupgap\":0},\"title\":{\"text\":\"Distribution of Impact Level\"},\"barmode\":\"relative\"},                        {\"responsive\": true}                    ).then(function(){\n",
              "                            \n",
              "var gd = document.getElementById('4c047d61-1bf9-410d-a7ef-f90312870151');\n",
              "var x = new MutationObserver(function (mutations, observer) {{\n",
              "        var display = window.getComputedStyle(gd).display;\n",
              "        if (!display || display === 'none') {{\n",
              "            console.log([gd, 'removed!']);\n",
              "            Plotly.purge(gd);\n",
              "            observer.disconnect();\n",
              "        }}\n",
              "}});\n",
              "\n",
              "// Listen for the removal of the full notebook cells\n",
              "var notebookContainer = gd.closest('#notebook-container');\n",
              "if (notebookContainer) {{\n",
              "    x.observe(notebookContainer, {childList: true});\n",
              "}}\n",
              "\n",
              "// Listen for the clearing of the current output cell\n",
              "var outputEl = gd.closest('.output');\n",
              "if (outputEl) {{\n",
              "    x.observe(outputEl, {childList: true});\n",
              "}}\n",
              "\n",
              "                        })                };                            </script>        </div>\n",
              "</body>\n",
              "</html>"
            ]
          },
          "metadata": {}
        }
      ],
      "source": [
        "fig = px.histogram(train_df, x='impact_level', nbins=30, marginal='rug', title='Distribution of Impact Level')\n",
        "fig.update_layout(xaxis_title='impact_level', yaxis_title='Frequency')\n",
        "fig.show()"
      ]
    },
    {
      "cell_type": "markdown",
      "metadata": {
        "id": "ZGtSL07uxiEv"
      },
      "source": [
        "Our dataset for impact level classification demonstrates a moderate imbalance. The distribution of classes is as follows: low (106), medium (243), and high (196), which translates to approximately 25%, 57%, and 18% of the total samples, respectively.\n",
        "\n",
        "In this context, the \"low\" class is the minority class, which may present challenges during model training, particularly if the model tends to favor the majority class. Conversely, the \"medium\" class serves as the majority, offering the model a substantial amount of data to learn from. This imbalance highlights the need for careful consideration in our modeling approach to ensure effective classification across all classes."
      ]
    },
    {
      "cell_type": "code",
      "execution_count": 13,
      "metadata": {
        "colab": {
          "base_uri": "https://localhost:8080/",
          "height": 542
        },
        "id": "kOQcHvO11PxL",
        "outputId": "304512e9-8999-4d8c-a82f-e67c2c94427a"
      },
      "outputs": [
        {
          "output_type": "display_data",
          "data": {
            "text/html": [
              "<html>\n",
              "<head><meta charset=\"utf-8\" /></head>\n",
              "<body>\n",
              "    <div>            <script src=\"https://cdnjs.cloudflare.com/ajax/libs/mathjax/2.7.5/MathJax.js?config=TeX-AMS-MML_SVG\"></script><script type=\"text/javascript\">if (window.MathJax && window.MathJax.Hub && window.MathJax.Hub.Config) {window.MathJax.Hub.Config({SVG: {font: \"STIX-Web\"}});}</script>                <script type=\"text/javascript\">window.PlotlyConfig = {MathJaxConfig: 'local'};</script>\n",
              "        <script charset=\"utf-8\" src=\"https://cdn.plot.ly/plotly-2.35.2.min.js\"></script>                <div id=\"18d55801-f23b-4206-837c-e4d0afc5cec2\" class=\"plotly-graph-div\" style=\"height:525px; width:100%;\"></div>            <script type=\"text/javascript\">                                    window.PLOTLYENV=window.PLOTLYENV || {};                                    if (document.getElementById(\"18d55801-f23b-4206-837c-e4d0afc5cec2\")) {                    Plotly.newPlot(                        \"18d55801-f23b-4206-837c-e4d0afc5cec2\",                        [{\"alignmentgroup\":\"True\",\"bingroup\":\"x\",\"hovertemplate\":\"impact_length=%{x}\\u003cbr\\u003ecount=%{y}\\u003cextra\\u003e\\u003c\\u002fextra\\u003e\",\"legendgroup\":\"\",\"marker\":{\"color\":\"#636efa\",\"pattern\":{\"shape\":\"\"}},\"name\":\"\",\"nbinsx\":30,\"offsetgroup\":\"\",\"orientation\":\"v\",\"showlegend\":false,\"x\":[\"2 to 5 years\",\"2 to 5 years\",\"2 to 5 years\",\"More than 5 years\",\"Less than 2 years\",\"More than 5 years\",\"More than 5 years\",\"2 to 5 years\",\"More than 5 years\",\"More than 5 years\",\"More than 5 years\",\"2 to 5 years\",\"2 to 5 years\",\"2 to 5 years\",\"More than 5 years\",\"2 to 5 years\",\"Less than 2 years\",\"2 to 5 years\",\"2 to 5 years\",\"Less than 2 years\",\"More than 5 years\",\"Less than 2 years\",\"Less than 2 years\",\"2 to 5 years\",\"More than 5 years\",\"More than 5 years\",\"More than 5 years\",\"More than 5 years\",\"More than 5 years\",\"2 to 5 years\",\"More than 5 years\",\"2 to 5 years\",\"Less than 2 years\",\"More than 5 years\",\"Less than 2 years\",\"Less than 2 years\",\"More than 5 years\",\"Less than 2 years\",\"Less than 2 years\",\"2 to 5 years\",\"2 to 5 years\",\"2 to 5 years\",\"2 to 5 years\",\"2 to 5 years\",\"Less than 2 years\",\"More than 5 years\",\"2 to 5 years\",\"More than 5 years\",\"More than 5 years\",\"Less than 2 years\",\"2 to 5 years\",\"2 to 5 years\",\"2 to 5 years\",\"Less than 2 years\",\"Less than 2 years\",\"More than 5 years\",\"More than 5 years\",\"2 to 5 years\",\"2 to 5 years\",\"Less than 2 years\",\"2 to 5 years\",\"2 to 5 years\",\"2 to 5 years\",\"More than 5 years\",\"More than 5 years\",\"2 to 5 years\",\"2 to 5 years\",\"2 to 5 years\",\"More than 5 years\",\"More than 5 years\",\"Less than 2 years\",\"2 to 5 years\",\"Less than 2 years\",\"2 to 5 years\",\"More than 5 years\",\"More than 5 years\",\"More than 5 years\",\"2 to 5 years\",\"2 to 5 years\",\"Less than 2 years\",\"More than 5 years\",\"More than 5 years\",\"More than 5 years\",\"More than 5 years\",\"Less than 2 years\",\"More than 5 years\",\"More than 5 years\",\"More than 5 years\",\"2 to 5 years\",\"More than 5 years\",\"2 to 5 years\",\"More than 5 years\",\"More than 5 years\",\"Less than 2 years\",\"More than 5 years\",\"2 to 5 years\",\"More than 5 years\",\"More than 5 years\",\"More than 5 years\",\"2 to 5 years\",\"More than 5 years\",\"More than 5 years\",\"2 to 5 years\",\"More than 5 years\",\"More than 5 years\",\"2 to 5 years\",\"2 to 5 years\",\"More than 5 years\",\"More than 5 years\",\"More than 5 years\",\"More than 5 years\",\"More than 5 years\",\"More than 5 years\",\"2 to 5 years\",\"More than 5 years\",\"More than 5 years\",\"More than 5 years\",\"More than 5 years\",\"More than 5 years\",\"More than 5 years\",\"More than 5 years\",\"More than 5 years\",\"More than 5 years\",\"More than 5 years\",\"More than 5 years\",\"More than 5 years\",\"2 to 5 years\",\"More than 5 years\",\"More than 5 years\",\"2 to 5 years\",\"More than 5 years\",\"2 to 5 years\",\"More than 5 years\",\"More than 5 years\",\"More than 5 years\",\"More than 5 years\",\"More than 5 years\",\"More than 5 years\",\"More than 5 years\",\"More than 5 years\",\"More than 5 years\",\"2 to 5 years\",\"More than 5 years\",\"More than 5 years\",\"2 to 5 years\",\"More than 5 years\",\"2 to 5 years\",\"2 to 5 years\",\"2 to 5 years\",\"2 to 5 years\",\"More than 5 years\",\"2 to 5 years\",\"2 to 5 years\",\"2 to 5 years\",\"More than 5 years\",\"2 to 5 years\",\"2 to 5 years\",\"More than 5 years\",\"2 to 5 years\",\"2 to 5 years\",\"2 to 5 years\",\"More than 5 years\",\"More than 5 years\",\"More than 5 years\",\"More than 5 years\",\"More than 5 years\",\"More than 5 years\",\"More than 5 years\",\"More than 5 years\",\"2 to 5 years\",\"More than 5 years\",\"More than 5 years\",\"More than 5 years\",\"More than 5 years\",\"More than 5 years\",\"More than 5 years\",\"More than 5 years\",\"More than 5 years\",\"More than 5 years\",\"More than 5 years\",\"More than 5 years\",\"More than 5 years\",\"Less than 2 years\",\"More than 5 years\",\"More than 5 years\",\"2 to 5 years\",\"2 to 5 years\",\"More than 5 years\",\"More than 5 years\",\"More than 5 years\",\"More than 5 years\",\"More than 5 years\",\"More than 5 years\",\"2 to 5 years\",\"Less than 2 years\",\"More than 5 years\",\"2 to 5 years\",\"More than 5 years\",\"More than 5 years\",\"More than 5 years\",\"More than 5 years\",\"Less than 2 years\",\"More than 5 years\",\"More than 5 years\",\"Less than 2 years\",\"More than 5 years\",\"More than 5 years\",\"More than 5 years\",\"2 to 5 years\",\"More than 5 years\",\"More than 5 years\",\"More than 5 years\",\"Less than 2 years\",\"More than 5 years\",\"More than 5 years\",\"More than 5 years\",\"More than 5 years\",\"More than 5 years\",\"More than 5 years\",\"Less than 2 years\",\"More than 5 years\",\"More than 5 years\",\"Less than 2 years\",\"More than 5 years\",\"More than 5 years\",\"More than 5 years\",\"More than 5 years\",\"2 to 5 years\",\"Less than 2 years\",\"More than 5 years\",\"More than 5 years\",\"More than 5 years\",\"More than 5 years\",\"More than 5 years\",\"More than 5 years\",\"More than 5 years\",\"2 to 5 years\",\"2 to 5 years\",\"More than 5 years\",\"2 to 5 years\",\"2 to 5 years\",\"2 to 5 years\",\"More than 5 years\",\"More than 5 years\",\"More than 5 years\",\"More than 5 years\",\"More than 5 years\",\"More than 5 years\",\"More than 5 years\",\"2 to 5 years\",\"More than 5 years\",\"More than 5 years\",\"More than 5 years\",\"More than 5 years\",\"More than 5 years\",\"More than 5 years\",\"More than 5 years\",\"More than 5 years\",\"More than 5 years\",\"More than 5 years\",\"More than 5 years\",\"More than 5 years\",\"More than 5 years\",\"2 to 5 years\",\"2 to 5 years\",\"2 to 5 years\",\"2 to 5 years\",\"2 to 5 years\",\"More than 5 years\",\"More than 5 years\",\"More than 5 years\",\"More than 5 years\",\"More than 5 years\",\"More than 5 years\",\"More than 5 years\",\"More than 5 years\",\"More than 5 years\",\"More than 5 years\",\"More than 5 years\",\"2 to 5 years\",\"More than 5 years\",\"More than 5 years\",\"2 to 5 years\",\"More than 5 years\",\"More than 5 years\",\"More than 5 years\",\"More than 5 years\",\"More than 5 years\",\"More than 5 years\",\"2 to 5 years\",\"2 to 5 years\",\"More than 5 years\",\"2 to 5 years\",\"2 to 5 years\",\"More than 5 years\",\"More than 5 years\",\"More than 5 years\",\"More than 5 years\",\"More than 5 years\",\"More than 5 years\",\"More than 5 years\",\"More than 5 years\",\"More than 5 years\",\"More than 5 years\",\"More than 5 years\",\"More than 5 years\",\"More than 5 years\",\"More than 5 years\",\"More than 5 years\",\"Less than 2 years\",\"More than 5 years\",\"More than 5 years\",\"More than 5 years\",\"2 to 5 years\",\"More than 5 years\",\"More than 5 years\",\"More than 5 years\",\"More than 5 years\",\"2 to 5 years\",\"More than 5 years\",\"More than 5 years\",\"More than 5 years\",\"2 to 5 years\",\"2 to 5 years\",\"More than 5 years\",\"2 to 5 years\",\"More than 5 years\",\"2 to 5 years\",\"2 to 5 years\",\"2 to 5 years\",\"2 to 5 years\",\"More than 5 years\",\"Less than 2 years\",\"More than 5 years\",\"2 to 5 years\",\"2 to 5 years\",\"2 to 5 years\",\"2 to 5 years\",\"More than 5 years\",\"More than 5 years\",\"More than 5 years\",\"2 to 5 years\",\"More than 5 years\",\"2 to 5 years\",\"More than 5 years\",\"More than 5 years\",\"More than 5 years\",\"More than 5 years\",\"More than 5 years\",\"More than 5 years\",\"More than 5 years\",\"More than 5 years\",\"2 to 5 years\",\"2 to 5 years\",\"2 to 5 years\",\"2 to 5 years\",\"More than 5 years\",\"More than 5 years\",\"2 to 5 years\",\"More than 5 years\",\"More than 5 years\",\"2 to 5 years\",\"More than 5 years\",\"More than 5 years\",\"More than 5 years\",\"More than 5 years\",\"2 to 5 years\",\"More than 5 years\",\"More than 5 years\",\"More than 5 years\",\"More than 5 years\",\"2 to 5 years\",\"2 to 5 years\",\"Less than 2 years\",\"More than 5 years\",\"2 to 5 years\",\"2 to 5 years\",\"2 to 5 years\",\"More than 5 years\",\"More than 5 years\",\"2 to 5 years\",\"More than 5 years\",\"More than 5 years\",\"More than 5 years\",\"2 to 5 years\",\"More than 5 years\",\"More than 5 years\",\"2 to 5 years\",\"2 to 5 years\",\"2 to 5 years\",\"More than 5 years\",\"2 to 5 years\",\"More than 5 years\",\"2 to 5 years\",\"More than 5 years\",\"More than 5 years\",\"More than 5 years\",\"More than 5 years\",\"More than 5 years\",\"2 to 5 years\",\"More than 5 years\",\"More than 5 years\",\"More than 5 years\",\"More than 5 years\",\"2 to 5 years\",\"More than 5 years\",\"More than 5 years\",\"2 to 5 years\",\"2 to 5 years\",\"2 to 5 years\",\"2 to 5 years\",\"More than 5 years\",\"2 to 5 years\",\"2 to 5 years\",\"2 to 5 years\",\"2 to 5 years\",\"Less than 2 years\",\"More than 5 years\",\"2 to 5 years\",\"Less than 2 years\",\"2 to 5 years\",\"Less than 2 years\",\"2 to 5 years\",\"Less than 2 years\",\"Less than 2 years\",\"Less than 2 years\",\"Less than 2 years\",\"Less than 2 years\",\"2 to 5 years\",\"2 to 5 years\",\"Less than 2 years\",\"Less than 2 years\",\"2 to 5 years\",\"2 to 5 years\",\"Less than 2 years\",\"More than 5 years\",\"2 to 5 years\",\"Less than 2 years\",\"2 to 5 years\",\"2 to 5 years\",\"Less than 2 years\",\"Less than 2 years\",\"2 to 5 years\",\"2 to 5 years\",\"Less than 2 years\",\"2 to 5 years\",\"2 to 5 years\",\"2 to 5 years\",\"2 to 5 years\",\"Less than 2 years\",\"2 to 5 years\",\"2 to 5 years\",\"2 to 5 years\",\"2 to 5 years\",\"2 to 5 years\",\"2 to 5 years\",\"2 to 5 years\",\"Less than 2 years\",\"Less than 2 years\",\"Less than 2 years\",\"2 to 5 years\",\"2 to 5 years\",\"2 to 5 years\",\"2 to 5 years\",\"Less than 2 years\",\"2 to 5 years\",\"Less than 2 years\",\"Less than 2 years\",\"2 to 5 years\",\"Less than 2 years\",\"2 to 5 years\",\"2 to 5 years\",\"Less than 2 years\",\"Less than 2 years\",\"Less than 2 years\",\"2 to 5 years\",\"2 to 5 years\",\"2 to 5 years\",\"Less than 2 years\",\"Less than 2 years\",\"2 to 5 years\",\"More than 5 years\",\"2 to 5 years\",\"2 to 5 years\",\"2 to 5 years\",\"Less than 2 years\",\"2 to 5 years\",\"Less than 2 years\",\"Less than 2 years\",\"More than 5 years\",\"More than 5 years\",\"More than 5 years\",\"2 to 5 years\",\"Less than 2 years\",\"2 to 5 years\",\"More than 5 years\",\"Less than 2 years\",\"Less than 2 years\",\"2 to 5 years\",\"2 to 5 years\",\"Less than 2 years\",\"2 to 5 years\",\"Less than 2 years\",\"Less than 2 years\",\"Less than 2 years\",\"2 to 5 years\",\"Less than 2 years\",\"2 to 5 years\",\"Less than 2 years\",\"Less than 2 years\",\"2 to 5 years\",\"2 to 5 years\",\"2 to 5 years\",\"2 to 5 years\",\"2 to 5 years\",\"Less than 2 years\",\"Less than 2 years\",\"2 to 5 years\",\"Less than 2 years\",\"Less than 2 years\",\"Less than 2 years\",\"2 to 5 years\",\"Less than 2 years\",\"2 to 5 years\",\"Less than 2 years\",\"2 to 5 years\",\"Less than 2 years\",\"2 to 5 years\",\"2 to 5 years\",\"2 to 5 years\",\"2 to 5 years\",\"2 to 5 years\",\"2 to 5 years\",\"2 to 5 years\",\"2 to 5 years\",\"2 to 5 years\",\"2 to 5 years\",\"2 to 5 years\",\"2 to 5 years\",\"2 to 5 years\",\"2 to 5 years\",\"2 to 5 years\",\"Less than 2 years\",\"Less than 2 years\",\"2 to 5 years\"],\"xaxis\":\"x\",\"yaxis\":\"y\",\"type\":\"histogram\"},{\"alignmentgroup\":\"True\",\"boxpoints\":\"all\",\"fillcolor\":\"rgba(255,255,255,0)\",\"hoveron\":\"points\",\"hovertemplate\":\"impact_length=%{x}\\u003cextra\\u003e\\u003c\\u002fextra\\u003e\",\"jitter\":0,\"legendgroup\":\"\",\"line\":{\"color\":\"rgba(255,255,255,0)\"},\"marker\":{\"color\":\"#636efa\",\"symbol\":\"line-ns-open\"},\"name\":\"\",\"offsetgroup\":\"\",\"showlegend\":false,\"x\":[\"2 to 5 years\",\"2 to 5 years\",\"2 to 5 years\",\"More than 5 years\",\"Less than 2 years\",\"More than 5 years\",\"More than 5 years\",\"2 to 5 years\",\"More than 5 years\",\"More than 5 years\",\"More than 5 years\",\"2 to 5 years\",\"2 to 5 years\",\"2 to 5 years\",\"More than 5 years\",\"2 to 5 years\",\"Less than 2 years\",\"2 to 5 years\",\"2 to 5 years\",\"Less than 2 years\",\"More than 5 years\",\"Less than 2 years\",\"Less than 2 years\",\"2 to 5 years\",\"More than 5 years\",\"More than 5 years\",\"More than 5 years\",\"More than 5 years\",\"More than 5 years\",\"2 to 5 years\",\"More than 5 years\",\"2 to 5 years\",\"Less than 2 years\",\"More than 5 years\",\"Less than 2 years\",\"Less than 2 years\",\"More than 5 years\",\"Less than 2 years\",\"Less than 2 years\",\"2 to 5 years\",\"2 to 5 years\",\"2 to 5 years\",\"2 to 5 years\",\"2 to 5 years\",\"Less than 2 years\",\"More than 5 years\",\"2 to 5 years\",\"More than 5 years\",\"More than 5 years\",\"Less than 2 years\",\"2 to 5 years\",\"2 to 5 years\",\"2 to 5 years\",\"Less than 2 years\",\"Less than 2 years\",\"More than 5 years\",\"More than 5 years\",\"2 to 5 years\",\"2 to 5 years\",\"Less than 2 years\",\"2 to 5 years\",\"2 to 5 years\",\"2 to 5 years\",\"More than 5 years\",\"More than 5 years\",\"2 to 5 years\",\"2 to 5 years\",\"2 to 5 years\",\"More than 5 years\",\"More than 5 years\",\"Less than 2 years\",\"2 to 5 years\",\"Less than 2 years\",\"2 to 5 years\",\"More than 5 years\",\"More than 5 years\",\"More than 5 years\",\"2 to 5 years\",\"2 to 5 years\",\"Less than 2 years\",\"More than 5 years\",\"More than 5 years\",\"More than 5 years\",\"More than 5 years\",\"Less than 2 years\",\"More than 5 years\",\"More than 5 years\",\"More than 5 years\",\"2 to 5 years\",\"More than 5 years\",\"2 to 5 years\",\"More than 5 years\",\"More than 5 years\",\"Less than 2 years\",\"More than 5 years\",\"2 to 5 years\",\"More than 5 years\",\"More than 5 years\",\"More than 5 years\",\"2 to 5 years\",\"More than 5 years\",\"More than 5 years\",\"2 to 5 years\",\"More than 5 years\",\"More than 5 years\",\"2 to 5 years\",\"2 to 5 years\",\"More than 5 years\",\"More than 5 years\",\"More than 5 years\",\"More than 5 years\",\"More than 5 years\",\"More than 5 years\",\"2 to 5 years\",\"More than 5 years\",\"More than 5 years\",\"More than 5 years\",\"More than 5 years\",\"More than 5 years\",\"More than 5 years\",\"More than 5 years\",\"More than 5 years\",\"More than 5 years\",\"More than 5 years\",\"More than 5 years\",\"More than 5 years\",\"2 to 5 years\",\"More than 5 years\",\"More than 5 years\",\"2 to 5 years\",\"More than 5 years\",\"2 to 5 years\",\"More than 5 years\",\"More than 5 years\",\"More than 5 years\",\"More than 5 years\",\"More than 5 years\",\"More than 5 years\",\"More than 5 years\",\"More than 5 years\",\"More than 5 years\",\"2 to 5 years\",\"More than 5 years\",\"More than 5 years\",\"2 to 5 years\",\"More than 5 years\",\"2 to 5 years\",\"2 to 5 years\",\"2 to 5 years\",\"2 to 5 years\",\"More than 5 years\",\"2 to 5 years\",\"2 to 5 years\",\"2 to 5 years\",\"More than 5 years\",\"2 to 5 years\",\"2 to 5 years\",\"More than 5 years\",\"2 to 5 years\",\"2 to 5 years\",\"2 to 5 years\",\"More than 5 years\",\"More than 5 years\",\"More than 5 years\",\"More than 5 years\",\"More than 5 years\",\"More than 5 years\",\"More than 5 years\",\"More than 5 years\",\"2 to 5 years\",\"More than 5 years\",\"More than 5 years\",\"More than 5 years\",\"More than 5 years\",\"More than 5 years\",\"More than 5 years\",\"More than 5 years\",\"More than 5 years\",\"More than 5 years\",\"More than 5 years\",\"More than 5 years\",\"More than 5 years\",\"Less than 2 years\",\"More than 5 years\",\"More than 5 years\",\"2 to 5 years\",\"2 to 5 years\",\"More than 5 years\",\"More than 5 years\",\"More than 5 years\",\"More than 5 years\",\"More than 5 years\",\"More than 5 years\",\"2 to 5 years\",\"Less than 2 years\",\"More than 5 years\",\"2 to 5 years\",\"More than 5 years\",\"More than 5 years\",\"More than 5 years\",\"More than 5 years\",\"Less than 2 years\",\"More than 5 years\",\"More than 5 years\",\"Less than 2 years\",\"More than 5 years\",\"More than 5 years\",\"More than 5 years\",\"2 to 5 years\",\"More than 5 years\",\"More than 5 years\",\"More than 5 years\",\"Less than 2 years\",\"More than 5 years\",\"More than 5 years\",\"More than 5 years\",\"More than 5 years\",\"More than 5 years\",\"More than 5 years\",\"Less than 2 years\",\"More than 5 years\",\"More than 5 years\",\"Less than 2 years\",\"More than 5 years\",\"More than 5 years\",\"More than 5 years\",\"More than 5 years\",\"2 to 5 years\",\"Less than 2 years\",\"More than 5 years\",\"More than 5 years\",\"More than 5 years\",\"More than 5 years\",\"More than 5 years\",\"More than 5 years\",\"More than 5 years\",\"2 to 5 years\",\"2 to 5 years\",\"More than 5 years\",\"2 to 5 years\",\"2 to 5 years\",\"2 to 5 years\",\"More than 5 years\",\"More than 5 years\",\"More than 5 years\",\"More than 5 years\",\"More than 5 years\",\"More than 5 years\",\"More than 5 years\",\"2 to 5 years\",\"More than 5 years\",\"More than 5 years\",\"More than 5 years\",\"More than 5 years\",\"More than 5 years\",\"More than 5 years\",\"More than 5 years\",\"More than 5 years\",\"More than 5 years\",\"More than 5 years\",\"More than 5 years\",\"More than 5 years\",\"More than 5 years\",\"2 to 5 years\",\"2 to 5 years\",\"2 to 5 years\",\"2 to 5 years\",\"2 to 5 years\",\"More than 5 years\",\"More than 5 years\",\"More than 5 years\",\"More than 5 years\",\"More than 5 years\",\"More than 5 years\",\"More than 5 years\",\"More than 5 years\",\"More than 5 years\",\"More than 5 years\",\"More than 5 years\",\"2 to 5 years\",\"More than 5 years\",\"More than 5 years\",\"2 to 5 years\",\"More than 5 years\",\"More than 5 years\",\"More than 5 years\",\"More than 5 years\",\"More than 5 years\",\"More than 5 years\",\"2 to 5 years\",\"2 to 5 years\",\"More than 5 years\",\"2 to 5 years\",\"2 to 5 years\",\"More than 5 years\",\"More than 5 years\",\"More than 5 years\",\"More than 5 years\",\"More than 5 years\",\"More than 5 years\",\"More than 5 years\",\"More than 5 years\",\"More than 5 years\",\"More than 5 years\",\"More than 5 years\",\"More than 5 years\",\"More than 5 years\",\"More than 5 years\",\"More than 5 years\",\"Less than 2 years\",\"More than 5 years\",\"More than 5 years\",\"More than 5 years\",\"2 to 5 years\",\"More than 5 years\",\"More than 5 years\",\"More than 5 years\",\"More than 5 years\",\"2 to 5 years\",\"More than 5 years\",\"More than 5 years\",\"More than 5 years\",\"2 to 5 years\",\"2 to 5 years\",\"More than 5 years\",\"2 to 5 years\",\"More than 5 years\",\"2 to 5 years\",\"2 to 5 years\",\"2 to 5 years\",\"2 to 5 years\",\"More than 5 years\",\"Less than 2 years\",\"More than 5 years\",\"2 to 5 years\",\"2 to 5 years\",\"2 to 5 years\",\"2 to 5 years\",\"More than 5 years\",\"More than 5 years\",\"More than 5 years\",\"2 to 5 years\",\"More than 5 years\",\"2 to 5 years\",\"More than 5 years\",\"More than 5 years\",\"More than 5 years\",\"More than 5 years\",\"More than 5 years\",\"More than 5 years\",\"More than 5 years\",\"More than 5 years\",\"2 to 5 years\",\"2 to 5 years\",\"2 to 5 years\",\"2 to 5 years\",\"More than 5 years\",\"More than 5 years\",\"2 to 5 years\",\"More than 5 years\",\"More than 5 years\",\"2 to 5 years\",\"More than 5 years\",\"More than 5 years\",\"More than 5 years\",\"More than 5 years\",\"2 to 5 years\",\"More than 5 years\",\"More than 5 years\",\"More than 5 years\",\"More than 5 years\",\"2 to 5 years\",\"2 to 5 years\",\"Less than 2 years\",\"More than 5 years\",\"2 to 5 years\",\"2 to 5 years\",\"2 to 5 years\",\"More than 5 years\",\"More than 5 years\",\"2 to 5 years\",\"More than 5 years\",\"More than 5 years\",\"More than 5 years\",\"2 to 5 years\",\"More than 5 years\",\"More than 5 years\",\"2 to 5 years\",\"2 to 5 years\",\"2 to 5 years\",\"More than 5 years\",\"2 to 5 years\",\"More than 5 years\",\"2 to 5 years\",\"More than 5 years\",\"More than 5 years\",\"More than 5 years\",\"More than 5 years\",\"More than 5 years\",\"2 to 5 years\",\"More than 5 years\",\"More than 5 years\",\"More than 5 years\",\"More than 5 years\",\"2 to 5 years\",\"More than 5 years\",\"More than 5 years\",\"2 to 5 years\",\"2 to 5 years\",\"2 to 5 years\",\"2 to 5 years\",\"More than 5 years\",\"2 to 5 years\",\"2 to 5 years\",\"2 to 5 years\",\"2 to 5 years\",\"Less than 2 years\",\"More than 5 years\",\"2 to 5 years\",\"Less than 2 years\",\"2 to 5 years\",\"Less than 2 years\",\"2 to 5 years\",\"Less than 2 years\",\"Less than 2 years\",\"Less than 2 years\",\"Less than 2 years\",\"Less than 2 years\",\"2 to 5 years\",\"2 to 5 years\",\"Less than 2 years\",\"Less than 2 years\",\"2 to 5 years\",\"2 to 5 years\",\"Less than 2 years\",\"More than 5 years\",\"2 to 5 years\",\"Less than 2 years\",\"2 to 5 years\",\"2 to 5 years\",\"Less than 2 years\",\"Less than 2 years\",\"2 to 5 years\",\"2 to 5 years\",\"Less than 2 years\",\"2 to 5 years\",\"2 to 5 years\",\"2 to 5 years\",\"2 to 5 years\",\"Less than 2 years\",\"2 to 5 years\",\"2 to 5 years\",\"2 to 5 years\",\"2 to 5 years\",\"2 to 5 years\",\"2 to 5 years\",\"2 to 5 years\",\"Less than 2 years\",\"Less than 2 years\",\"Less than 2 years\",\"2 to 5 years\",\"2 to 5 years\",\"2 to 5 years\",\"2 to 5 years\",\"Less than 2 years\",\"2 to 5 years\",\"Less than 2 years\",\"Less than 2 years\",\"2 to 5 years\",\"Less than 2 years\",\"2 to 5 years\",\"2 to 5 years\",\"Less than 2 years\",\"Less than 2 years\",\"Less than 2 years\",\"2 to 5 years\",\"2 to 5 years\",\"2 to 5 years\",\"Less than 2 years\",\"Less than 2 years\",\"2 to 5 years\",\"More than 5 years\",\"2 to 5 years\",\"2 to 5 years\",\"2 to 5 years\",\"Less than 2 years\",\"2 to 5 years\",\"Less than 2 years\",\"Less than 2 years\",\"More than 5 years\",\"More than 5 years\",\"More than 5 years\",\"2 to 5 years\",\"Less than 2 years\",\"2 to 5 years\",\"More than 5 years\",\"Less than 2 years\",\"Less than 2 years\",\"2 to 5 years\",\"2 to 5 years\",\"Less than 2 years\",\"2 to 5 years\",\"Less than 2 years\",\"Less than 2 years\",\"Less than 2 years\",\"2 to 5 years\",\"Less than 2 years\",\"2 to 5 years\",\"Less than 2 years\",\"Less than 2 years\",\"2 to 5 years\",\"2 to 5 years\",\"2 to 5 years\",\"2 to 5 years\",\"2 to 5 years\",\"Less than 2 years\",\"Less than 2 years\",\"2 to 5 years\",\"Less than 2 years\",\"Less than 2 years\",\"Less than 2 years\",\"2 to 5 years\",\"Less than 2 years\",\"2 to 5 years\",\"Less than 2 years\",\"2 to 5 years\",\"Less than 2 years\",\"2 to 5 years\",\"2 to 5 years\",\"2 to 5 years\",\"2 to 5 years\",\"2 to 5 years\",\"2 to 5 years\",\"2 to 5 years\",\"2 to 5 years\",\"2 to 5 years\",\"2 to 5 years\",\"2 to 5 years\",\"2 to 5 years\",\"2 to 5 years\",\"2 to 5 years\",\"2 to 5 years\",\"Less than 2 years\",\"Less than 2 years\",\"2 to 5 years\"],\"xaxis\":\"x2\",\"yaxis\":\"y2\",\"type\":\"box\"}],                        {\"template\":{\"data\":{\"histogram2dcontour\":[{\"type\":\"histogram2dcontour\",\"colorbar\":{\"outlinewidth\":0,\"ticks\":\"\"},\"colorscale\":[[0.0,\"#0d0887\"],[0.1111111111111111,\"#46039f\"],[0.2222222222222222,\"#7201a8\"],[0.3333333333333333,\"#9c179e\"],[0.4444444444444444,\"#bd3786\"],[0.5555555555555556,\"#d8576b\"],[0.6666666666666666,\"#ed7953\"],[0.7777777777777778,\"#fb9f3a\"],[0.8888888888888888,\"#fdca26\"],[1.0,\"#f0f921\"]]}],\"choropleth\":[{\"type\":\"choropleth\",\"colorbar\":{\"outlinewidth\":0,\"ticks\":\"\"}}],\"histogram2d\":[{\"type\":\"histogram2d\",\"colorbar\":{\"outlinewidth\":0,\"ticks\":\"\"},\"colorscale\":[[0.0,\"#0d0887\"],[0.1111111111111111,\"#46039f\"],[0.2222222222222222,\"#7201a8\"],[0.3333333333333333,\"#9c179e\"],[0.4444444444444444,\"#bd3786\"],[0.5555555555555556,\"#d8576b\"],[0.6666666666666666,\"#ed7953\"],[0.7777777777777778,\"#fb9f3a\"],[0.8888888888888888,\"#fdca26\"],[1.0,\"#f0f921\"]]}],\"heatmap\":[{\"type\":\"heatmap\",\"colorbar\":{\"outlinewidth\":0,\"ticks\":\"\"},\"colorscale\":[[0.0,\"#0d0887\"],[0.1111111111111111,\"#46039f\"],[0.2222222222222222,\"#7201a8\"],[0.3333333333333333,\"#9c179e\"],[0.4444444444444444,\"#bd3786\"],[0.5555555555555556,\"#d8576b\"],[0.6666666666666666,\"#ed7953\"],[0.7777777777777778,\"#fb9f3a\"],[0.8888888888888888,\"#fdca26\"],[1.0,\"#f0f921\"]]}],\"heatmapgl\":[{\"type\":\"heatmapgl\",\"colorbar\":{\"outlinewidth\":0,\"ticks\":\"\"},\"colorscale\":[[0.0,\"#0d0887\"],[0.1111111111111111,\"#46039f\"],[0.2222222222222222,\"#7201a8\"],[0.3333333333333333,\"#9c179e\"],[0.4444444444444444,\"#bd3786\"],[0.5555555555555556,\"#d8576b\"],[0.6666666666666666,\"#ed7953\"],[0.7777777777777778,\"#fb9f3a\"],[0.8888888888888888,\"#fdca26\"],[1.0,\"#f0f921\"]]}],\"contourcarpet\":[{\"type\":\"contourcarpet\",\"colorbar\":{\"outlinewidth\":0,\"ticks\":\"\"}}],\"contour\":[{\"type\":\"contour\",\"colorbar\":{\"outlinewidth\":0,\"ticks\":\"\"},\"colorscale\":[[0.0,\"#0d0887\"],[0.1111111111111111,\"#46039f\"],[0.2222222222222222,\"#7201a8\"],[0.3333333333333333,\"#9c179e\"],[0.4444444444444444,\"#bd3786\"],[0.5555555555555556,\"#d8576b\"],[0.6666666666666666,\"#ed7953\"],[0.7777777777777778,\"#fb9f3a\"],[0.8888888888888888,\"#fdca26\"],[1.0,\"#f0f921\"]]}],\"surface\":[{\"type\":\"surface\",\"colorbar\":{\"outlinewidth\":0,\"ticks\":\"\"},\"colorscale\":[[0.0,\"#0d0887\"],[0.1111111111111111,\"#46039f\"],[0.2222222222222222,\"#7201a8\"],[0.3333333333333333,\"#9c179e\"],[0.4444444444444444,\"#bd3786\"],[0.5555555555555556,\"#d8576b\"],[0.6666666666666666,\"#ed7953\"],[0.7777777777777778,\"#fb9f3a\"],[0.8888888888888888,\"#fdca26\"],[1.0,\"#f0f921\"]]}],\"mesh3d\":[{\"type\":\"mesh3d\",\"colorbar\":{\"outlinewidth\":0,\"ticks\":\"\"}}],\"scatter\":[{\"fillpattern\":{\"fillmode\":\"overlay\",\"size\":10,\"solidity\":0.2},\"type\":\"scatter\"}],\"parcoords\":[{\"type\":\"parcoords\",\"line\":{\"colorbar\":{\"outlinewidth\":0,\"ticks\":\"\"}}}],\"scatterpolargl\":[{\"type\":\"scatterpolargl\",\"marker\":{\"colorbar\":{\"outlinewidth\":0,\"ticks\":\"\"}}}],\"bar\":[{\"error_x\":{\"color\":\"#2a3f5f\"},\"error_y\":{\"color\":\"#2a3f5f\"},\"marker\":{\"line\":{\"color\":\"#E5ECF6\",\"width\":0.5},\"pattern\":{\"fillmode\":\"overlay\",\"size\":10,\"solidity\":0.2}},\"type\":\"bar\"}],\"scattergeo\":[{\"type\":\"scattergeo\",\"marker\":{\"colorbar\":{\"outlinewidth\":0,\"ticks\":\"\"}}}],\"scatterpolar\":[{\"type\":\"scatterpolar\",\"marker\":{\"colorbar\":{\"outlinewidth\":0,\"ticks\":\"\"}}}],\"histogram\":[{\"marker\":{\"pattern\":{\"fillmode\":\"overlay\",\"size\":10,\"solidity\":0.2}},\"type\":\"histogram\"}],\"scattergl\":[{\"type\":\"scattergl\",\"marker\":{\"colorbar\":{\"outlinewidth\":0,\"ticks\":\"\"}}}],\"scatter3d\":[{\"type\":\"scatter3d\",\"line\":{\"colorbar\":{\"outlinewidth\":0,\"ticks\":\"\"}},\"marker\":{\"colorbar\":{\"outlinewidth\":0,\"ticks\":\"\"}}}],\"scattermapbox\":[{\"type\":\"scattermapbox\",\"marker\":{\"colorbar\":{\"outlinewidth\":0,\"ticks\":\"\"}}}],\"scatterternary\":[{\"type\":\"scatterternary\",\"marker\":{\"colorbar\":{\"outlinewidth\":0,\"ticks\":\"\"}}}],\"scattercarpet\":[{\"type\":\"scattercarpet\",\"marker\":{\"colorbar\":{\"outlinewidth\":0,\"ticks\":\"\"}}}],\"carpet\":[{\"aaxis\":{\"endlinecolor\":\"#2a3f5f\",\"gridcolor\":\"white\",\"linecolor\":\"white\",\"minorgridcolor\":\"white\",\"startlinecolor\":\"#2a3f5f\"},\"baxis\":{\"endlinecolor\":\"#2a3f5f\",\"gridcolor\":\"white\",\"linecolor\":\"white\",\"minorgridcolor\":\"white\",\"startlinecolor\":\"#2a3f5f\"},\"type\":\"carpet\"}],\"table\":[{\"cells\":{\"fill\":{\"color\":\"#EBF0F8\"},\"line\":{\"color\":\"white\"}},\"header\":{\"fill\":{\"color\":\"#C8D4E3\"},\"line\":{\"color\":\"white\"}},\"type\":\"table\"}],\"barpolar\":[{\"marker\":{\"line\":{\"color\":\"#E5ECF6\",\"width\":0.5},\"pattern\":{\"fillmode\":\"overlay\",\"size\":10,\"solidity\":0.2}},\"type\":\"barpolar\"}],\"pie\":[{\"automargin\":true,\"type\":\"pie\"}]},\"layout\":{\"autotypenumbers\":\"strict\",\"colorway\":[\"#636efa\",\"#EF553B\",\"#00cc96\",\"#ab63fa\",\"#FFA15A\",\"#19d3f3\",\"#FF6692\",\"#B6E880\",\"#FF97FF\",\"#FECB52\"],\"font\":{\"color\":\"#2a3f5f\"},\"hovermode\":\"closest\",\"hoverlabel\":{\"align\":\"left\"},\"paper_bgcolor\":\"white\",\"plot_bgcolor\":\"#E5ECF6\",\"polar\":{\"bgcolor\":\"#E5ECF6\",\"angularaxis\":{\"gridcolor\":\"white\",\"linecolor\":\"white\",\"ticks\":\"\"},\"radialaxis\":{\"gridcolor\":\"white\",\"linecolor\":\"white\",\"ticks\":\"\"}},\"ternary\":{\"bgcolor\":\"#E5ECF6\",\"aaxis\":{\"gridcolor\":\"white\",\"linecolor\":\"white\",\"ticks\":\"\"},\"baxis\":{\"gridcolor\":\"white\",\"linecolor\":\"white\",\"ticks\":\"\"},\"caxis\":{\"gridcolor\":\"white\",\"linecolor\":\"white\",\"ticks\":\"\"}},\"coloraxis\":{\"colorbar\":{\"outlinewidth\":0,\"ticks\":\"\"}},\"colorscale\":{\"sequential\":[[0.0,\"#0d0887\"],[0.1111111111111111,\"#46039f\"],[0.2222222222222222,\"#7201a8\"],[0.3333333333333333,\"#9c179e\"],[0.4444444444444444,\"#bd3786\"],[0.5555555555555556,\"#d8576b\"],[0.6666666666666666,\"#ed7953\"],[0.7777777777777778,\"#fb9f3a\"],[0.8888888888888888,\"#fdca26\"],[1.0,\"#f0f921\"]],\"sequentialminus\":[[0.0,\"#0d0887\"],[0.1111111111111111,\"#46039f\"],[0.2222222222222222,\"#7201a8\"],[0.3333333333333333,\"#9c179e\"],[0.4444444444444444,\"#bd3786\"],[0.5555555555555556,\"#d8576b\"],[0.6666666666666666,\"#ed7953\"],[0.7777777777777778,\"#fb9f3a\"],[0.8888888888888888,\"#fdca26\"],[1.0,\"#f0f921\"]],\"diverging\":[[0,\"#8e0152\"],[0.1,\"#c51b7d\"],[0.2,\"#de77ae\"],[0.3,\"#f1b6da\"],[0.4,\"#fde0ef\"],[0.5,\"#f7f7f7\"],[0.6,\"#e6f5d0\"],[0.7,\"#b8e186\"],[0.8,\"#7fbc41\"],[0.9,\"#4d9221\"],[1,\"#276419\"]]},\"xaxis\":{\"gridcolor\":\"white\",\"linecolor\":\"white\",\"ticks\":\"\",\"title\":{\"standoff\":15},\"zerolinecolor\":\"white\",\"automargin\":true,\"zerolinewidth\":2},\"yaxis\":{\"gridcolor\":\"white\",\"linecolor\":\"white\",\"ticks\":\"\",\"title\":{\"standoff\":15},\"zerolinecolor\":\"white\",\"automargin\":true,\"zerolinewidth\":2},\"scene\":{\"xaxis\":{\"backgroundcolor\":\"#E5ECF6\",\"gridcolor\":\"white\",\"linecolor\":\"white\",\"showbackground\":true,\"ticks\":\"\",\"zerolinecolor\":\"white\",\"gridwidth\":2},\"yaxis\":{\"backgroundcolor\":\"#E5ECF6\",\"gridcolor\":\"white\",\"linecolor\":\"white\",\"showbackground\":true,\"ticks\":\"\",\"zerolinecolor\":\"white\",\"gridwidth\":2},\"zaxis\":{\"backgroundcolor\":\"#E5ECF6\",\"gridcolor\":\"white\",\"linecolor\":\"white\",\"showbackground\":true,\"ticks\":\"\",\"zerolinecolor\":\"white\",\"gridwidth\":2}},\"shapedefaults\":{\"line\":{\"color\":\"#2a3f5f\"}},\"annotationdefaults\":{\"arrowcolor\":\"#2a3f5f\",\"arrowhead\":0,\"arrowwidth\":1},\"geo\":{\"bgcolor\":\"white\",\"landcolor\":\"#E5ECF6\",\"subunitcolor\":\"white\",\"showland\":true,\"showlakes\":true,\"lakecolor\":\"white\"},\"title\":{\"x\":0.05},\"mapbox\":{\"style\":\"light\"}}},\"xaxis\":{\"anchor\":\"y\",\"domain\":[0.0,1.0],\"title\":{\"text\":\"impact_length\"}},\"yaxis\":{\"anchor\":\"x\",\"domain\":[0.0,0.8316],\"title\":{\"text\":\"Frequency\"}},\"xaxis2\":{\"anchor\":\"y2\",\"domain\":[0.0,1.0],\"matches\":\"x\",\"showticklabels\":false,\"showgrid\":true},\"yaxis2\":{\"anchor\":\"x2\",\"domain\":[0.8416,1.0],\"matches\":\"y2\",\"showticklabels\":false,\"showline\":false,\"ticks\":\"\",\"showgrid\":false},\"legend\":{\"tracegroupgap\":0},\"title\":{\"text\":\"Distribution of Impact Length\"},\"barmode\":\"relative\"},                        {\"responsive\": true}                    ).then(function(){\n",
              "                            \n",
              "var gd = document.getElementById('18d55801-f23b-4206-837c-e4d0afc5cec2');\n",
              "var x = new MutationObserver(function (mutations, observer) {{\n",
              "        var display = window.getComputedStyle(gd).display;\n",
              "        if (!display || display === 'none') {{\n",
              "            console.log([gd, 'removed!']);\n",
              "            Plotly.purge(gd);\n",
              "            observer.disconnect();\n",
              "        }}\n",
              "}});\n",
              "\n",
              "// Listen for the removal of the full notebook cells\n",
              "var notebookContainer = gd.closest('#notebook-container');\n",
              "if (notebookContainer) {{\n",
              "    x.observe(notebookContainer, {childList: true});\n",
              "}}\n",
              "\n",
              "// Listen for the clearing of the current output cell\n",
              "var outputEl = gd.closest('.output');\n",
              "if (outputEl) {{\n",
              "    x.observe(outputEl, {childList: true});\n",
              "}}\n",
              "\n",
              "                        })                };                            </script>        </div>\n",
              "</body>\n",
              "</html>"
            ]
          },
          "metadata": {}
        }
      ],
      "source": [
        "fig = px.histogram(train_df, x='impact_length', nbins=30, marginal='rug', title='Distribution of Impact Length')\n",
        "fig.update_layout(xaxis_title='impact_length', yaxis_title='Frequency')\n",
        "fig.show()"
      ]
    },
    {
      "cell_type": "markdown",
      "metadata": {
        "id": "7PwA30zz1T9m"
      },
      "source": [
        "Our dataset for impact length classification exhibits a moderate imbalance. The distribution of classes is as follows: less than 2 years (82), 2 to 5 years (198), and more than 5 years (265), which corresponds to approximately 19%, 46%, and 35% of the total samples, respectively.\n",
        "\n",
        "In this case, the \"less than 2 years\" class is the minority, which may pose challenges during model training, especially if the model tends to favor the majority classes. Meanwhile, the \"more than 5 years\" class represents the majority, providing the model with a robust amount of data to learn from. This imbalance underscores the importance of adopting careful strategies in our modeling approach to ensure effective classification across all classes.\n",
        "\n"
      ]
    },
    {
      "cell_type": "code",
      "execution_count": 14,
      "metadata": {
        "colab": {
          "base_uri": "https://localhost:8080/",
          "height": 564
        },
        "id": "OQD6AdyV1Tqd",
        "outputId": "b961b112-53fd-4621-fc96-2c96e859ad60"
      },
      "outputs": [
        {
          "output_type": "display_data",
          "data": {
            "text/plain": [
              "<Figure size 1000x600 with 2 Axes>"
            ],
            "image/png": "[encoded data removed]"
          },
          "metadata": {}
        }
      ],
      "source": [
        "train_df['impact_length'] = pd.Categorical(\n",
        "    train_df['impact_length'],\n",
        "    categories=['Less than 2 years', '2 to 5 years', 'More than 5 years'],\n",
        "    ordered=True\n",
        ")\n",
        "\n",
        "train_df['impact_level'] = pd.Categorical(\n",
        "    train_df['impact_level'],\n",
        "    categories=['low', 'medium', 'high'],\n",
        "    ordered=True\n",
        ")\n",
        "\n",
        "conf_matrix = pd.crosstab(train_df['impact_level'], train_df['impact_length'], rownames=['Impact Level'], colnames=['Impact Length'])\n",
        "plt.figure(figsize=(10,6))\n",
        "sns.heatmap(conf_matrix, annot=True, fmt='g', cmap='Blues')\n",
        "plt.title('Confusion Matrix: Impact Level vs Impact Length')\n",
        "plt.show()"
      ]
    },
    {
      "cell_type": "markdown",
      "metadata": {
        "id": "A07nXTKs2RDS"
      },
      "source": [
        "From the above confusion matrix we can observe many things. Firstly, we can see that most cases are associated with \"More than 5 years\" as we have 131+106+28=265 cases. The data shows that high-impact projects are usually longer, especially those lasting \"More than 5 years\", indicating that longer projects often have a greater impact. Medium-impact projects are spread fairly evenly across different durations, suggesting that time doesn't heavily influence their impact level. On the other hand, low-impact projects tend to be shorter, with most lasting \"2 to 5 years\" or \"less than 2 years\", and fewer extending \"More than 5 years\"."
      ]
    },
    {
      "cell_type": "code",
      "execution_count": 15,
      "metadata": {
        "colab": {
          "base_uri": "https://localhost:8080/",
          "height": 637
        },
        "id": "vXFN3x4s2RdC",
        "outputId": "c1f08b11-b6a9-46eb-c6b0-8452fb72f318"
      },
      "outputs": [
        {
          "output_type": "stream",
          "name": "stderr",
          "text": [
            "<ipython-input-15-587c5fccf333>:26: FutureWarning:\n",
            "\n",
            "DataFrame.applymap has been deprecated. Use DataFrame.map instead.\n",
            "\n"
          ]
        },
        {
          "output_type": "display_data",
          "data": {
            "text/plain": [
              "<Figure size 1000x600 with 2 Axes>"
            ],
            "image/png": "[encoded data removed]"
          },
          "metadata": {}
        }
      ],
      "source": [
        "train_df['impact_length'] = pd.Categorical(\n",
        "    train_df['impact_length'],\n",
        "    categories=['Less than 2 years', '2 to 5 years', 'More than 5 years'],\n",
        "    ordered=True\n",
        ")\n",
        "\n",
        "# Ensure the 'impact_level' column is ordered as a categorical variable with correct order\n",
        "train_df['impact_level'] = pd.Categorical(\n",
        "    train_df['impact_level'],\n",
        "    categories=['low', 'medium', 'high'],\n",
        "    ordered=True\n",
        ")\n",
        "\n",
        "# Create the confusion matrix\n",
        "conf_matrix = pd.crosstab(train_df['impact_level'], train_df['impact_length'], rownames=['Impact Level'], colnames=['Impact Length'])\n",
        "\n",
        "# Calculate percentages\n",
        "conf_matrix_percent = conf_matrix.apply(lambda r: r / r.sum() * 100, axis=1)  # Row-wise percentage\n",
        "\n",
        "# Add row and column sums to the original matrix\n",
        "conf_matrix_with_totals = conf_matrix.copy()\n",
        "conf_matrix_with_totals.loc['Total'] = conf_matrix.sum(axis=0)  # Column totals\n",
        "conf_matrix_with_totals['Total'] = pd.concat([conf_matrix.sum(axis=1), pd.Series(conf_matrix.sum().sum(), index=['Total'])])  # Row totals\n",
        "\n",
        "# Prepare the text for the annotations (percentages)\n",
        "annot = conf_matrix_percent.applymap(lambda x: '{:.1f}%'.format(x))\n",
        "\n",
        "# Plot the confusion matrix with percentages\n",
        "plt.figure(figsize=(10,6))\n",
        "sns.heatmap(conf_matrix_percent, annot=annot, fmt='', cmap='Blues')  # Display percentages\n",
        "plt.title('Confusion Matrix: Impact Level vs Impact Length (Percentages)')\n",
        "plt.show()"
      ]
    },
    {
      "cell_type": "markdown",
      "metadata": {
        "id": "GYuelEe52XVv"
      },
      "source": [
        "## Encoding Categorical Features\n",
        "In this part the categorical features will be encoded in order to have more effective dataset."
      ]
    },
    {
      "cell_type": "code",
      "execution_count": 16,
      "metadata": {
        "colab": {
          "base_uri": "https://localhost:8080/",
          "height": 985
        },
        "id": "Bajo0vLg2Ywh",
        "outputId": "7a973624-7f10-4d91-8f52-2c4a1db559fc"
      },
      "outputs": [
        {
          "output_type": "stream",
          "name": "stderr",
          "text": [
            "<ipython-input-16-d9efbd076fbd>:1: FutureWarning:\n",
            "\n",
            "Downcasting behavior in `replace` is deprecated and will be removed in a future version. To retain the old behavior, explicitly call `result.infer_objects(copy=False)`. To opt-in to the future behavior, set `pd.set_option('future.no_silent_downcasting', True)`\n",
            "\n",
            "<ipython-input-16-d9efbd076fbd>:1: FutureWarning:\n",
            "\n",
            "The behavior of Series.replace (and DataFrame.replace) with CategoricalDtype is deprecated. In a future version, replace will only be used for cases that preserve the categories. To change the categories, use ser.cat.rename_categories instead.\n",
            "\n",
            "<ipython-input-16-d9efbd076fbd>:2: FutureWarning:\n",
            "\n",
            "Downcasting behavior in `replace` is deprecated and will be removed in a future version. To retain the old behavior, explicitly call `result.infer_objects(copy=False)`. To opt-in to the future behavior, set `pd.set_option('future.no_silent_downcasting', True)`\n",
            "\n",
            "<ipython-input-16-d9efbd076fbd>:2: FutureWarning:\n",
            "\n",
            "The behavior of Series.replace (and DataFrame.replace) with CategoricalDtype is deprecated. In a future version, replace will only be used for cases that preserve the categories. To change the categories, use ser.cat.rename_categories instead.\n",
            "\n",
            "<ipython-input-16-d9efbd076fbd>:3: FutureWarning:\n",
            "\n",
            "Downcasting behavior in `replace` is deprecated and will be removed in a future version. To retain the old behavior, explicitly call `result.infer_objects(copy=False)`. To opt-in to the future behavior, set `pd.set_option('future.no_silent_downcasting', True)`\n",
            "\n",
            "<ipython-input-16-d9efbd076fbd>:4: FutureWarning:\n",
            "\n",
            "Downcasting behavior in `replace` is deprecated and will be removed in a future version. To retain the old behavior, explicitly call `result.infer_objects(copy=False)`. To opt-in to the future behavior, set `pd.set_option('future.no_silent_downcasting', True)`\n",
            "\n"
          ]
        },
        {
          "output_type": "execute_result",
          "data": {
            "text/plain": [
              "                                                   URL  \\\n",
              "0    https://www.esgtoday.com/arabesque-ai-appoints...   \n",
              "1    https://www.esgtoday.com/arabesque-ai-appoints...   \n",
              "2    https://www.esgtoday.com/arabesque-ai-appoints...   \n",
              "3    https://www.esgtoday.com/ukraine-war-inflation...   \n",
              "4    https://www.esgtoday.com/eu-regulators-welcome...   \n",
              "..                                                 ...   \n",
              "540  https://www.esgtoday.com/methane-emissions-det...   \n",
              "541  https://www.esgtoday.com/eaton-appoints-harold...   \n",
              "542  https://www.esgtoday.com/ssga-outlines-2021-st...   \n",
              "543  https://www.esgtoday.com/survey-investors-shif...   \n",
              "544  https://www.esgtoday.com/chicago-to-transition...   \n",
              "\n",
              "                                            news_title  \\\n",
              "0    Arabesque AI Appoints Carolina Minio Paluello ...   \n",
              "1    Arabesque AI Appoints Carolina Minio Paluello ...   \n",
              "2    Arabesque AI Appoints Carolina Minio Paluello ...   \n",
              "3    Ukraine War, Inflation Reduction Act Driving F...   \n",
              "4    EU Regulators Welcome, Critique New European S...   \n",
              "..                                                 ...   \n",
              "540  Methane Emissions Detection Platform Kuva Rais...   \n",
              "541  Eaton Appoints Harold Jones as Chief Sustainab...   \n",
              "542  SSGA Outlines 2021 Stewardship Priorities, Wil...   \n",
              "543  Survey: Investors Shifting to Offense on Clima...   \n",
              "544  Chicago to Transition Buildings, Airports & Op...   \n",
              "\n",
              "                                          news_content impact_level  \\\n",
              "0    ESG-focused financial technology company Arabe...            0   \n",
              "1    The company also announced the appointment of ...            0   \n",
              "2    Wong said:  \\n“Personalised portfolios demand ...            1   \n",
              "3    One of the key themes of the report is the imp...            2   \n",
              "4    Europe’s three primary financial regulatory ag...            1   \n",
              "..                                                 ...          ...   \n",
              "540  Stefan Bokaemper, CEO of Kuva Systems, said: “...            0   \n",
              "541  Eaton Appoints Harold Jones as Chief Sustainab...            0   \n",
              "542  In his letter, Taraporevala wrote: “As a signa...            1   \n",
              "543  O’Brien said: “Investors globally are increasi...            0   \n",
              "544  Jim McHugh, Chief Commercial Officer, Constell...            1   \n",
              "\n",
              "    impact_length  \n",
              "0               1  \n",
              "1               1  \n",
              "2               1  \n",
              "3               2  \n",
              "4               0  \n",
              "..            ...  \n",
              "540             1  \n",
              "541             1  \n",
              "542             0  \n",
              "543             0  \n",
              "544             1  \n",
              "\n",
              "[545 rows x 5 columns]"
            ],
            "text/html": [
              "\n",
              "  <div id=\"df-29d4b348-b581-469d-a1a6-d3c1ef6efb53\" class=\"colab-df-container\">\n",
              "    <div>\n",
              "<style scoped>\n",
              "    .dataframe tbody tr th:only-of-type {\n",
              "        vertical-align: middle;\n",
              "    }\n",
              "\n",
              "    .dataframe tbody tr th {\n",
              "        vertical-align: top;\n",
              "    }\n",
              "\n",
              "    .dataframe thead th {\n",
              "        text-align: right;\n",
              "    }\n",
              "</style>\n",
              "<table border=\"1\" class=\"dataframe\">\n",
              "  <thead>\n",
              "    <tr style=\"text-align: right;\">\n",
              "      <th></th>\n",
              "      <th>URL</th>\n",
              "      <th>news_title</th>\n",
              "      <th>news_content</th>\n",
              "      <th>impact_level</th>\n",
              "      <th>impact_length</th>\n",
              "    </tr>\n",
              "  </thead>\n",
              "  <tbody>\n",
              "    <tr>\n",
              "      <th>0</th>\n",
              "      <td>https://www.esgtoday.com/arabesque-ai-appoints...</td>\n",
              "      <td>Arabesque AI Appoints Carolina Minio Paluello ...</td>\n",
              "      <td>ESG-focused financial technology company Arabe...</td>\n",
              "      <td>0</td>\n",
              "      <td>1</td>\n",
              "    </tr>\n",
              "    <tr>\n",
              "      <th>1</th>\n",
              "      <td>https://www.esgtoday.com/arabesque-ai-appoints...</td>\n",
              "      <td>Arabesque AI Appoints Carolina Minio Paluello ...</td>\n",
              "      <td>The company also announced the appointment of ...</td>\n",
              "      <td>0</td>\n",
              "      <td>1</td>\n",
              "    </tr>\n",
              "    <tr>\n",
              "      <th>2</th>\n",
              "      <td>https://www.esgtoday.com/arabesque-ai-appoints...</td>\n",
              "      <td>Arabesque AI Appoints Carolina Minio Paluello ...</td>\n",
              "      <td>Wong said:  \\n“Personalised portfolios demand ...</td>\n",
              "      <td>1</td>\n",
              "      <td>1</td>\n",
              "    </tr>\n",
              "    <tr>\n",
              "      <th>3</th>\n",
              "      <td>https://www.esgtoday.com/ukraine-war-inflation...</td>\n",
              "      <td>Ukraine War, Inflation Reduction Act Driving F...</td>\n",
              "      <td>One of the key themes of the report is the imp...</td>\n",
              "      <td>2</td>\n",
              "      <td>2</td>\n",
              "    </tr>\n",
              "    <tr>\n",
              "      <th>4</th>\n",
              "      <td>https://www.esgtoday.com/eu-regulators-welcome...</td>\n",
              "      <td>EU Regulators Welcome, Critique New European S...</td>\n",
              "      <td>Europe’s three primary financial regulatory ag...</td>\n",
              "      <td>1</td>\n",
              "      <td>0</td>\n",
              "    </tr>\n",
              "    <tr>\n",
              "      <th>...</th>\n",
              "      <td>...</td>\n",
              "      <td>...</td>\n",
              "      <td>...</td>\n",
              "      <td>...</td>\n",
              "      <td>...</td>\n",
              "    </tr>\n",
              "    <tr>\n",
              "      <th>540</th>\n",
              "      <td>https://www.esgtoday.com/methane-emissions-det...</td>\n",
              "      <td>Methane Emissions Detection Platform Kuva Rais...</td>\n",
              "      <td>Stefan Bokaemper, CEO of Kuva Systems, said: “...</td>\n",
              "      <td>0</td>\n",
              "      <td>1</td>\n",
              "    </tr>\n",
              "    <tr>\n",
              "      <th>541</th>\n",
              "      <td>https://www.esgtoday.com/eaton-appoints-harold...</td>\n",
              "      <td>Eaton Appoints Harold Jones as Chief Sustainab...</td>\n",
              "      <td>Eaton Appoints Harold Jones as Chief Sustainab...</td>\n",
              "      <td>0</td>\n",
              "      <td>1</td>\n",
              "    </tr>\n",
              "    <tr>\n",
              "      <th>542</th>\n",
              "      <td>https://www.esgtoday.com/ssga-outlines-2021-st...</td>\n",
              "      <td>SSGA Outlines 2021 Stewardship Priorities, Wil...</td>\n",
              "      <td>In his letter, Taraporevala wrote: “As a signa...</td>\n",
              "      <td>1</td>\n",
              "      <td>0</td>\n",
              "    </tr>\n",
              "    <tr>\n",
              "      <th>543</th>\n",
              "      <td>https://www.esgtoday.com/survey-investors-shif...</td>\n",
              "      <td>Survey: Investors Shifting to Offense on Clima...</td>\n",
              "      <td>O’Brien said: “Investors globally are increasi...</td>\n",
              "      <td>0</td>\n",
              "      <td>0</td>\n",
              "    </tr>\n",
              "    <tr>\n",
              "      <th>544</th>\n",
              "      <td>https://www.esgtoday.com/chicago-to-transition...</td>\n",
              "      <td>Chicago to Transition Buildings, Airports &amp; Op...</td>\n",
              "      <td>Jim McHugh, Chief Commercial Officer, Constell...</td>\n",
              "      <td>1</td>\n",
              "      <td>1</td>\n",
              "    </tr>\n",
              "  </tbody>\n",
              "</table>\n",
              "<p>545 rows × 5 columns</p>\n",
              "</div>\n",
              "    <div class=\"colab-df-buttons\">\n",
              "\n",
              "  <div class=\"colab-df-container\">\n",
              "    <button class=\"colab-df-convert\" onclick=\"convertToInteractive('df-29d4b348-b581-469d-a1a6-d3c1ef6efb53')\"\n",
              "            title=\"Convert this dataframe to an interactive table.\"\n",
              "            style=\"display:none;\">\n",
              "\n",
              "  <svg xmlns=\"http://www.w3.org/2000/svg\" height=\"24px\" viewBox=\"0 -960 960 960\">\n",
              "    <path d=\"M120-120v-720h720v720H120Zm60-500h600v-160H180v160Zm220 220h160v-160H400v160Zm0 220h160v-160H400v160ZM180-400h160v-160H180v160Zm440 0h160v-160H620v160ZM180-180h160v-160H180v160Zm440 0h160v-160H620v160Z\"/>\n",
              "  </svg>\n",
              "    </button>\n",
              "\n",
              "  <style>\n",
              "    .colab-df-container {\n",
              "      display:flex;\n",
              "      gap: 12px;\n",
              "    }\n",
              "\n",
              "    .colab-df-convert {\n",
              "      background-color: #E8F0FE;\n",
              "      border: none;\n",
              "      border-radius: 50%;\n",
              "      cursor: pointer;\n",
              "      display: none;\n",
              "      fill: #1967D2;\n",
              "      height: 32px;\n",
              "      padding: 0 0 0 0;\n",
              "      width: 32px;\n",
              "    }\n",
              "\n",
              "    .colab-df-convert:hover {\n",
              "      background-color: #E2EBFA;\n",
              "      box-shadow: 0px 1px 2px rgba(60, 64, 67, 0.3), 0px 1px 3px 1px rgba(60, 64, 67, 0.15);\n",
              "      fill: #174EA6;\n",
              "    }\n",
              "\n",
              "    .colab-df-buttons div {\n",
              "      margin-bottom: 4px;\n",
              "    }\n",
              "\n",
              "    [theme=dark] .colab-df-convert {\n",
              "      background-color: #3B4455;\n",
              "      fill: #D2E3FC;\n",
              "    }\n",
              "\n",
              "    [theme=dark] .colab-df-convert:hover {\n",
              "      background-color: #434B5C;\n",
              "      box-shadow: 0px 1px 3px 1px rgba(0, 0, 0, 0.15);\n",
              "      filter: drop-shadow(0px 1px 2px rgba(0, 0, 0, 0.3));\n",
              "      fill: #FFFFFF;\n",
              "    }\n",
              "  </style>\n",
              "\n",
              "    <script>\n",
              "      const buttonEl =\n",
              "        document.querySelector('#df-29d4b348-b581-469d-a1a6-d3c1ef6efb53 button.colab-df-convert');\n",
              "      buttonEl.style.display =\n",
              "        google.colab.kernel.accessAllowed ? 'block' : 'none';\n",
              "\n",
              "      async function convertToInteractive(key) {\n",
              "        const element = document.querySelector('#df-29d4b348-b581-469d-a1a6-d3c1ef6efb53');\n",
              "        const dataTable =\n",
              "          await google.colab.kernel.invokeFunction('convertToInteractive',\n",
              "                                                    [key], {});\n",
              "        if (!dataTable) return;\n",
              "\n",
              "        const docLinkHtml = 'Like what you see? Visit the ' +\n",
              "          '<a target=\"_blank\" href=https://colab.research.google.com/notebooks/data_table.ipynb>data table notebook</a>'\n",
              "          + ' to learn more about interactive tables.';\n",
              "        element.innerHTML = '';\n",
              "        dataTable['output_type'] = 'display_data';\n",
              "        await google.colab.output.renderOutput(dataTable, element);\n",
              "        const docLink = document.createElement('div');\n",
              "        docLink.innerHTML = docLinkHtml;\n",
              "        element.appendChild(docLink);\n",
              "      }\n",
              "    </script>\n",
              "  </div>\n",
              "\n",
              "\n",
              "<div id=\"df-3282c120-fde4-4eec-9d78-d3059473c816\">\n",
              "  <button class=\"colab-df-quickchart\" onclick=\"quickchart('df-3282c120-fde4-4eec-9d78-d3059473c816')\"\n",
              "            title=\"Suggest charts\"\n",
              "            style=\"display:none;\">\n",
              "\n",
              "<svg xmlns=\"http://www.w3.org/2000/svg\" height=\"24px\"viewBox=\"0 0 24 24\"\n",
              "     width=\"24px\">\n",
              "    <g>\n",
              "        <path d=\"M19 3H5c-1.1 0-2 .9-2 2v14c0 1.1.9 2 2 2h14c1.1 0 2-.9 2-2V5c0-1.1-.9-2-2-2zM9 17H7v-7h2v7zm4 0h-2V7h2v10zm4 0h-2v-4h2v4z\"/>\n",
              "    </g>\n",
              "</svg>\n",
              "  </button>\n",
              "\n",
              "<style>\n",
              "  .colab-df-quickchart {\n",
              "      --bg-color: #E8F0FE;\n",
              "      --fill-color: #1967D2;\n",
              "      --hover-bg-color: #E2EBFA;\n",
              "      --hover-fill-color: #174EA6;\n",
              "      --disabled-fill-color: #AAA;\n",
              "      --disabled-bg-color: #DDD;\n",
              "  }\n",
              "\n",
              "  [theme=dark] .colab-df-quickchart {\n",
              "      --bg-color: #3B4455;\n",
              "      --fill-color: #D2E3FC;\n",
              "      --hover-bg-color: #434B5C;\n",
              "      --hover-fill-color: #FFFFFF;\n",
              "      --disabled-bg-color: #3B4455;\n",
              "      --disabled-fill-color: #666;\n",
              "  }\n",
              "\n",
              "  .colab-df-quickchart {\n",
              "    background-color: var(--bg-color);\n",
              "    border: none;\n",
              "    border-radius: 50%;\n",
              "    cursor: pointer;\n",
              "    display: none;\n",
              "    fill: var(--fill-color);\n",
              "    height: 32px;\n",
              "    padding: 0;\n",
              "    width: 32px;\n",
              "  }\n",
              "\n",
              "  .colab-df-quickchart:hover {\n",
              "    background-color: var(--hover-bg-color);\n",
              "    box-shadow: 0 1px 2px rgba(60, 64, 67, 0.3), 0 1px 3px 1px rgba(60, 64, 67, 0.15);\n",
              "    fill: var(--button-hover-fill-color);\n",
              "  }\n",
              "\n",
              "  .colab-df-quickchart-complete:disabled,\n",
              "  .colab-df-quickchart-complete:disabled:hover {\n",
              "    background-color: var(--disabled-bg-color);\n",
              "    fill: var(--disabled-fill-color);\n",
              "    box-shadow: none;\n",
              "  }\n",
              "\n",
              "  .colab-df-spinner {\n",
              "    border: 2px solid var(--fill-color);\n",
              "    border-color: transparent;\n",
              "    border-bottom-color: var(--fill-color);\n",
              "    animation:\n",
              "      spin 1s steps(1) infinite;\n",
              "  }\n",
              "\n",
              "  @keyframes spin {\n",
              "    0% {\n",
              "      border-color: transparent;\n",
              "      border-bottom-color: var(--fill-color);\n",
              "      border-left-color: var(--fill-color);\n",
              "    }\n",
              "    20% {\n",
              "      border-color: transparent;\n",
              "      border-left-color: var(--fill-color);\n",
              "      border-top-color: var(--fill-color);\n",
              "    }\n",
              "    30% {\n",
              "      border-color: transparent;\n",
              "      border-left-color: var(--fill-color);\n",
              "      border-top-color: var(--fill-color);\n",
              "      border-right-color: var(--fill-color);\n",
              "    }\n",
              "    40% {\n",
              "      border-color: transparent;\n",
              "      border-right-color: var(--fill-color);\n",
              "      border-top-color: var(--fill-color);\n",
              "    }\n",
              "    60% {\n",
              "      border-color: transparent;\n",
              "      border-right-color: var(--fill-color);\n",
              "    }\n",
              "    80% {\n",
              "      border-color: transparent;\n",
              "      border-right-color: var(--fill-color);\n",
              "      border-bottom-color: var(--fill-color);\n",
              "    }\n",
              "    90% {\n",
              "      border-color: transparent;\n",
              "      border-bottom-color: var(--fill-color);\n",
              "    }\n",
              "  }\n",
              "</style>\n",
              "\n",
              "  <script>\n",
              "    async function quickchart(key) {\n",
              "      const quickchartButtonEl =\n",
              "        document.querySelector('#' + key + ' button');\n",
              "      quickchartButtonEl.disabled = true;  // To prevent multiple clicks.\n",
              "      quickchartButtonEl.classList.add('colab-df-spinner');\n",
              "      try {\n",
              "        const charts = await google.colab.kernel.invokeFunction(\n",
              "            'suggestCharts', [key], {});\n",
              "      } catch (error) {\n",
              "        console.error('Error during call to suggestCharts:', error);\n",
              "      }\n",
              "      quickchartButtonEl.classList.remove('colab-df-spinner');\n",
              "      quickchartButtonEl.classList.add('colab-df-quickchart-complete');\n",
              "    }\n",
              "    (() => {\n",
              "      let quickchartButtonEl =\n",
              "        document.querySelector('#df-3282c120-fde4-4eec-9d78-d3059473c816 button');\n",
              "      quickchartButtonEl.style.display =\n",
              "        google.colab.kernel.accessAllowed ? 'block' : 'none';\n",
              "    })();\n",
              "  </script>\n",
              "</div>\n",
              "\n",
              "  <div id=\"id_2f0ed5e3-a373-46d7-9ced-9e4687d5a918\">\n",
              "    <style>\n",
              "      .colab-df-generate {\n",
              "        background-color: #E8F0FE;\n",
              "        border: none;\n",
              "        border-radius: 50%;\n",
              "        cursor: pointer;\n",
              "        display: none;\n",
              "        fill: #1967D2;\n",
              "        height: 32px;\n",
              "        padding: 0 0 0 0;\n",
              "        width: 32px;\n",
              "      }\n",
              "\n",
              "      .colab-df-generate:hover {\n",
              "        background-color: #E2EBFA;\n",
              "        box-shadow: 0px 1px 2px rgba(60, 64, 67, 0.3), 0px 1px 3px 1px rgba(60, 64, 67, 0.15);\n",
              "        fill: #174EA6;\n",
              "      }\n",
              "\n",
              "      [theme=dark] .colab-df-generate {\n",
              "        background-color: #3B4455;\n",
              "        fill: #D2E3FC;\n",
              "      }\n",
              "\n",
              "      [theme=dark] .colab-df-generate:hover {\n",
              "        background-color: #434B5C;\n",
              "        box-shadow: 0px 1px 3px 1px rgba(0, 0, 0, 0.15);\n",
              "        filter: drop-shadow(0px 1px 2px rgba(0, 0, 0, 0.3));\n",
              "        fill: #FFFFFF;\n",
              "      }\n",
              "    </style>\n",
              "    <button class=\"colab-df-generate\" onclick=\"generateWithVariable('train_df')\"\n",
              "            title=\"Generate code using this dataframe.\"\n",
              "            style=\"display:none;\">\n",
              "\n",
              "  <svg xmlns=\"http://www.w3.org/2000/svg\" height=\"24px\"viewBox=\"0 0 24 24\"\n",
              "       width=\"24px\">\n",
              "    <path d=\"M7,19H8.4L18.45,9,17,7.55,7,17.6ZM5,21V16.75L18.45,3.32a2,2,0,0,1,2.83,0l1.4,1.43a1.91,1.91,0,0,1,.58,1.4,1.91,1.91,0,0,1-.58,1.4L9.25,21ZM18.45,9,17,7.55Zm-12,3A5.31,5.31,0,0,0,4.9,8.1,5.31,5.31,0,0,0,1,6.5,5.31,5.31,0,0,0,4.9,4.9,5.31,5.31,0,0,0,6.5,1,5.31,5.31,0,0,0,8.1,4.9,5.31,5.31,0,0,0,12,6.5,5.46,5.46,0,0,0,6.5,12Z\"/>\n",
              "  </svg>\n",
              "    </button>\n",
              "    <script>\n",
              "      (() => {\n",
              "      const buttonEl =\n",
              "        document.querySelector('#id_2f0ed5e3-a373-46d7-9ced-9e4687d5a918 button.colab-df-generate');\n",
              "      buttonEl.style.display =\n",
              "        google.colab.kernel.accessAllowed ? 'block' : 'none';\n",
              "\n",
              "      buttonEl.onclick = () => {\n",
              "        google.colab.notebook.generateWithVariable('train_df');\n",
              "      }\n",
              "      })();\n",
              "    </script>\n",
              "  </div>\n",
              "\n",
              "    </div>\n",
              "  </div>\n"
            ],
            "application/vnd.google.colaboratory.intrinsic+json": {
              "type": "dataframe",
              "variable_name": "train_df",
              "summary": "{\n  \"name\": \"train_df\",\n  \"rows\": 545,\n  \"fields\": [\n    {\n      \"column\": \"URL\",\n      \"properties\": {\n        \"dtype\": \"string\",\n        \"num_unique_values\": 339,\n        \"samples\": [\n          \"https://www.esgtoday.com/six-launches-gender-equality-index/\",\n          \"https://www.esgtoday.com/green-steel-startup-h2gs-raises-105-million-in-equity-financing/\",\n          \"https://www.esgtoday.com/activist-shareholders-win-spots-on-exxon-board-as-demand-for-climate-action-accelerates/\"\n        ],\n        \"semantic_type\": \"\",\n        \"description\": \"\"\n      }\n    },\n    {\n      \"column\": \"news_title\",\n      \"properties\": {\n        \"dtype\": \"string\",\n        \"num_unique_values\": 339,\n        \"samples\": [\n          \"SIX Launches Gender Equality Index\",\n          \"Green Steel Startup H2GS Raises $105 Million in Equity Financing\",\n          \"Activist Shareholders Win Spots on Exxon Board as Demand for Climate Action Accelerates\"\n        ],\n        \"semantic_type\": \"\",\n        \"description\": \"\"\n      }\n    },\n    {\n      \"column\": \"news_content\",\n      \"properties\": {\n        \"dtype\": \"string\",\n        \"num_unique_values\": 545,\n        \"samples\": [\n          \"In its proxy filing, the company stated: \\u201cBeginning in 2021, an environmental, social, and governance modifier based on Apple Values and other key community initiatives will be incorporated into our annual cash incentive program. This change is intended to further motivate Apple\\u2019s executive team to meet exceptionally high standards of values-driven leadership in addition to delivering strong financial results.\\u201d\",\n          \"Daniel Hanna, Barclays Global Head of Sustainable Finance for the CIB, said: \\n\\u201cBarclays is uniquely positioned to help scale the new climate technologies that will decarbonise industries and create green jobs. Many of the technologies that are required to achieve Net Zero have not yet reached commercial scale. Barclays can play a critical role though leveraging our experience as an advisor, bank, and investor through our Sustainable Impact Capital Programme to help accelerate their development and adoption.\\u201c\",\n          \"DHL Supply Chain, the world\\u2019s leading contract logistics provider, expands its logistics service offerings with a new solutions suite for recovery management, especially relevant for tech companies. The new circular supply chain solution supports companies in enabling appropriate reuse, reprocessing, or recycling of used electronic parts e.g. like processors, touchscreens, computer modules or tech assets. By implementing new business models to reduce electronic waste, so-called e-waste, companies can lower their environmental impact and avoid the loss of scarce raw materials. As an industry leader, DHL can offer this recovery service alongside the entire supply chain globally.\"\n        ],\n        \"semantic_type\": \"\",\n        \"description\": \"\"\n      }\n    },\n    {\n      \"column\": \"impact_level\",\n      \"properties\": {\n        \"dtype\": \"category\",\n        \"num_unique_values\": 3,\n        \"samples\": [\n          0,\n          1,\n          2\n        ],\n        \"semantic_type\": \"\",\n        \"description\": \"\"\n      }\n    },\n    {\n      \"column\": \"impact_length\",\n      \"properties\": {\n        \"dtype\": \"category\",\n        \"num_unique_values\": 3,\n        \"samples\": [\n          1,\n          2,\n          0\n        ],\n        \"semantic_type\": \"\",\n        \"description\": \"\"\n      }\n    }\n  ]\n}"
            }
          },
          "metadata": {},
          "execution_count": 16
        }
      ],
      "source": [
        "train_df[\"impact_level\"] = train_df[\"impact_level\"].replace([\"low\",\"medium\",\"high\"],[0,1,2])\n",
        "train_df[\"impact_length\"] = train_df[\"impact_length\"].replace([\"Less than 2 years\",\"2 to 5 years\",\"More than 5 years\"],[0,1,2])\n",
        "test_df[\"impact_level\"] = test_df[\"impact_level\"].replace([\"low\",\"medium\",\"high\"],[0,1,2])\n",
        "test_df[\"impact_length\"] = test_df[\"impact_length\"].replace([\"Less than 2 years\",\"2 to 5 years\",\"More than 5 years\"],[0,1,2])\n",
        "\n",
        "train_df"
      ]
    },
    {
      "cell_type": "code",
      "source": [
        "print(train_df['URL'].nunique())"
      ],
      "metadata": {
        "colab": {
          "base_uri": "https://localhost:8080/"
        },
        "id": "tA-vrXL-JzI1",
        "outputId": "56dc815d-f607-480a-cb57-262159fc11df"
      },
      "execution_count": 18,
      "outputs": [
        {
          "output_type": "stream",
          "name": "stdout",
          "text": [
            "339\n"
          ]
        }
      ]
    },
    {
      "cell_type": "markdown",
      "source": [
        "It can be observed that there are 339 unique URLs out of a total of 545 in the dataset. This indicates that there are 206 duplicate URLs, suggesting that the content and titles were extracted from the same URL page."
      ],
      "metadata": {
        "id": "bcQB7bV3Kh6T"
      }
    }
  ],
  "metadata": {
    "colab": {
      "toc_visible": true,
      "provenance": [],
      "authorship_tag": "ABX9TyMDIIqef0RHnizo8pbOderD"
    },
    "kernelspec": {
      "display_name": "Python 3",
      "name": "python3"
    },
    "language_info": {
      "name": "python"
    }
  },
  "nbformat": 4,
  "nbformat_minor": 0
}